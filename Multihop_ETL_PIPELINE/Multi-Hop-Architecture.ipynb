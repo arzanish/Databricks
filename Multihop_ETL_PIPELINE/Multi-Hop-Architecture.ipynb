{
 "cells": [
  {
   "cell_type": "markdown",
   "metadata": {
    "application/vnd.databricks.v1+cell": {
     "cellMetadata": {},
     "inputWidgets": {},
     "nuid": "e6057479-2d5b-4b10-94b2-fd37d259ddde",
     "showTitle": false,
     "title": ""
    }
   },
   "source": [
    "#### In this notebook we will create a Delta Lake multi-hop pipeline. (MEDALION ARCHITECTURE)"
   ]
  },
  {
   "cell_type": "code",
   "execution_count": 0,
   "metadata": {
    "application/vnd.databricks.v1+cell": {
     "cellMetadata": {
      "byteLimit": 2048000,
      "rowLimit": 10000
     },
     "inputWidgets": {},
     "nuid": "179ea5db-39c0-458b-9901-a30a34615167",
     "showTitle": false,
     "title": ""
    }
   },
   "outputs": [],
   "source": [
    "%python\n",
    "# Databricks notebook source\n",
    "def path_exists(path):\n",
    "  try:\n",
    "    dbutils.fs.ls(path)\n",
    "    return True\n",
    "  except Exception as e:\n",
    "    if 'java.io.FileNotFoundException' in str(e):\n",
    "      return False\n",
    "    else:\n",
    "      raise\n",
    "\n",
    "# COMMAND ----------\n",
    "\n",
    "def download_dataset(source, target):\n",
    "    files = dbutils.fs.ls(source)\n",
    "\n",
    "    for f in files:\n",
    "        source_path = f\"{source}/{f.name}\"\n",
    "        target_path = f\"{target}/{f.name}\"\n",
    "        if not path_exists(target_path):\n",
    "            print(f\"Copying {f.name} ...\")\n",
    "            dbutils.fs.cp(source_path, target_path, True)\n",
    "\n",
    "# COMMAND ----------\n",
    "\n",
    "data_source_uri = \"wasbs://course-resources@dalhussein.blob.core.windows.net/datasets/bookstore/v1/\"\n",
    "dataset_bookstore = 'dbfs:/mnt/demo-datasets/bookstore'\n",
    "spark.conf.set(f\"dataset.bookstore\", dataset_bookstore)\n",
    "\n",
    "# COMMAND ----------\n",
    "\n",
    "def get_index(dir):\n",
    "    files = dbutils.fs.ls(dir)\n",
    "    index = 0\n",
    "    if files:\n",
    "        file = max(files).name\n",
    "        index = int(file.rsplit('.', maxsplit=1)[0])\n",
    "    return index+1\n",
    "\n",
    "# COMMAND ----------\n",
    "\n",
    "# Structured Streaming\n",
    "streaming_dir = f\"{dataset_bookstore}/orders-streaming\"\n",
    "raw_dir = f\"{dataset_bookstore}/orders-raw\"\n",
    "\n",
    "def load_file(current_index):\n",
    "    latest_file = f\"{str(current_index).zfill(2)}.parquet\"\n",
    "    print(f\"Loading {latest_file} file to the bookstore dataset\")\n",
    "    dbutils.fs.cp(f\"{streaming_dir}/{latest_file}\", f\"{raw_dir}/{latest_file}\")\n",
    "\n",
    "    \n",
    "def load_new_data(all=False):\n",
    "    index = get_index(raw_dir)\n",
    "    if index >= 10:\n",
    "        print(\"No more data to load\\n\")\n",
    "\n",
    "    elif all == True:\n",
    "        while index <= 10:\n",
    "            load_file(index)\n",
    "            index += 1\n",
    "    else:\n",
    "        load_file(index)\n",
    "        index += 1\n",
    "\n",
    "# COMMAND ----------\n",
    "\n",
    "# DLT\n",
    "streaming_orders_dir = f\"{dataset_bookstore}/orders-json-streaming\"\n",
    "streaming_books_dir = f\"{dataset_bookstore}/books-streaming\"\n",
    "\n",
    "raw_orders_dir = f\"{dataset_bookstore}/orders-json-raw\"\n",
    "raw_books_dir = f\"{dataset_bookstore}/books-cdc\"\n",
    "\n",
    "def load_json_file(current_index):\n",
    "    latest_file = f\"{str(current_index).zfill(2)}.json\"\n",
    "    print(f\"Loading {latest_file} orders file to the bookstore dataset\")\n",
    "    dbutils.fs.cp(f\"{streaming_orders_dir}/{latest_file}\", f\"{raw_orders_dir}/{latest_file}\")\n",
    "    print(f\"Loading {latest_file} books file to the bookstore dataset\")\n",
    "    dbutils.fs.cp(f\"{streaming_books_dir}/{latest_file}\", f\"{raw_books_dir}/{latest_file}\")\n",
    "\n",
    "    \n",
    "def load_new_json_data(all=False):\n",
    "    index = get_index(raw_orders_dir)\n",
    "    if index >= 10:\n",
    "        print(\"No more data to load\\n\")\n",
    "\n",
    "    elif all == True:\n",
    "        while index <= 10:\n",
    "            load_json_file(index)\n",
    "            index += 1\n",
    "    else:\n",
    "        load_json_file(index)\n",
    "        index += 1\n",
    "\n",
    "# COMMAND ----------\n",
    "\n",
    "download_dataset(data_source_uri, dataset_bookstore)"
   ]
  },
  {
   "cell_type": "code",
   "execution_count": 0,
   "metadata": {
    "application/vnd.databricks.v1+cell": {
     "cellMetadata": {
      "byteLimit": 2048000,
      "rowLimit": 10000
     },
     "inputWidgets": {},
     "nuid": "847cb3bb-c76a-4aea-9d29-4febcc3909bf",
     "showTitle": false,
     "title": ""
    }
   },
   "outputs": [
    {
     "output_type": "display_data",
     "data": {
      "text/html": [
       "<style scoped>\n",
       "  .table-result-container {\n",
       "    max-height: 300px;\n",
       "    overflow: auto;\n",
       "  }\n",
       "  table, th, td {\n",
       "    border: 1px solid black;\n",
       "    border-collapse: collapse;\n",
       "  }\n",
       "  th, td {\n",
       "    padding: 5px;\n",
       "  }\n",
       "  th {\n",
       "    text-align: left;\n",
       "  }\n",
       "</style><div class='table-result-container'><table class='table-result'><thead style='background-color: white'><tr><th>path</th><th>name</th><th>size</th><th>modificationTime</th></tr></thead><tbody><tr><td>dbfs:/mnt/demo-datasets/bookstore/orders-raw/01.parquet</td><td>01.parquet</td><td>18823</td><td>1716397834000</td></tr><tr><td>dbfs:/mnt/demo-datasets/bookstore/orders-raw/02.parquet</td><td>02.parquet</td><td>18814</td><td>1716723864000</td></tr><tr><td>dbfs:/mnt/demo-datasets/bookstore/orders-raw/03.parquet</td><td>03.parquet</td><td>18822</td><td>1716723877000</td></tr></tbody></table></div>"
      ]
     },
     "metadata": {
      "application/vnd.databricks.v1+output": {
       "addedWidgets": {},
       "aggData": [],
       "aggError": "",
       "aggOverflow": false,
       "aggSchema": [],
       "aggSeriesLimitReached": false,
       "aggType": "",
       "arguments": {},
       "columnCustomDisplayInfos": {},
       "data": [
        [
         "dbfs:/mnt/demo-datasets/bookstore/orders-raw/01.parquet",
         "01.parquet",
         18823,
         1716397834000
        ],
        [
         "dbfs:/mnt/demo-datasets/bookstore/orders-raw/02.parquet",
         "02.parquet",
         18814,
         1716723864000
        ],
        [
         "dbfs:/mnt/demo-datasets/bookstore/orders-raw/03.parquet",
         "03.parquet",
         18822,
         1716723877000
        ]
       ],
       "datasetInfos": [],
       "dbfsResultPath": null,
       "isJsonSchema": true,
       "metadata": {},
       "overflow": false,
       "plotOptions": {
        "customPlotOptions": {},
        "displayType": "table",
        "pivotAggregation": null,
        "pivotColumns": null,
        "xColumns": null,
        "yColumns": null
       },
       "removedWidgets": [],
       "schema": [
        {
         "metadata": "{}",
         "name": "path",
         "type": "\"string\""
        },
        {
         "metadata": "{}",
         "name": "name",
         "type": "\"string\""
        },
        {
         "metadata": "{}",
         "name": "size",
         "type": "\"long\""
        },
        {
         "metadata": "{}",
         "name": "modificationTime",
         "type": "\"long\""
        }
       ],
       "type": "table"
      }
     },
     "output_type": "display_data"
    }
   ],
   "source": [
    "# we have 3 PARQUET FILES in out SOURCE DIRECTORY\n",
    "files=dbutils.fs.ls(f\"{dataset_bookstore}/orders-raw\")\n",
    "display(files)"
   ]
  },
  {
   "cell_type": "markdown",
   "metadata": {
    "application/vnd.databricks.v1+cell": {
     "cellMetadata": {},
     "inputWidgets": {},
     "nuid": "185d75e7-339b-4d64-b9cb-3acaa2058e6d",
     "showTitle": false,
     "title": ""
    }
   },
   "source": [
    "### ---------- BRONZE LAYER ----------"
   ]
  },
  {
   "cell_type": "code",
   "execution_count": 0,
   "metadata": {
    "application/vnd.databricks.v1+cell": {
     "cellMetadata": {
      "byteLimit": 2048000,
      "rowLimit": 10000
     },
     "inputWidgets": {},
     "nuid": "ec175014-46fc-4c04-a447-587d5bbd40c5",
     "showTitle": false,
     "title": ""
    }
   },
   "outputs": [],
   "source": [
    "(spark.readStream\n",
    "        .format(\"cloudFiles\")\n",
    "        .option(\"cloudFiles.format\",\"parquet\")\n",
    "        .option(\"cloudFiles.schemaLocation\",\"dbfs:/mnt/demo/checkpoints/orders_raw\")\n",
    "        .load(f\"{dataset_bookstore}/orders-raw\")\n",
    "        .createOrReplaceTempView(\"orders_raw_temp\")\n",
    "        )\n",
    "# Here, we are configuring a stream read on our Parquet source using Auto Loader with schema inference.\n",
    "# And once configured, we immediately register a streaming temporary view to do data transformation in Spark SQL.\n",
    "# Our temporary view is named \"orders_raw_tmp\""
   ]
  },
  {
   "cell_type": "code",
   "execution_count": 0,
   "metadata": {
    "application/vnd.databricks.v1+cell": {
     "cellMetadata": {
      "byteLimit": 2048000,
      "implicitDf": true,
      "rowLimit": 10000
     },
     "inputWidgets": {},
     "nuid": "a773c05c-07fb-4b31-8545-242d0ffadfe1",
     "showTitle": false,
     "title": ""
    }
   },
   "outputs": [
    {
     "output_type": "display_data",
     "data": {
      "text/html": [
       "<style scoped>\n",
       "  .table-result-container {\n",
       "    max-height: 300px;\n",
       "    overflow: auto;\n",
       "  }\n",
       "  table, th, td {\n",
       "    border: 1px solid black;\n",
       "    border-collapse: collapse;\n",
       "  }\n",
       "  th, td {\n",
       "    padding: 5px;\n",
       "  }\n",
       "  th {\n",
       "    text-align: left;\n",
       "  }\n",
       "</style><div class='table-result-container'><table class='table-result'><thead style='background-color: white'><tr></tr></thead><tbody></tbody></table></div>"
      ]
     },
     "metadata": {
      "application/vnd.databricks.v1+output": {
       "addedWidgets": {},
       "aggData": [],
       "aggError": "",
       "aggOverflow": false,
       "aggSchema": [],
       "aggSeriesLimitReached": false,
       "aggType": "",
       "arguments": {},
       "columnCustomDisplayInfos": {},
       "data": [],
       "datasetInfos": [],
       "dbfsResultPath": null,
       "isJsonSchema": true,
       "metadata": {},
       "overflow": false,
       "plotOptions": {
        "customPlotOptions": {},
        "displayType": "table",
        "pivotAggregation": null,
        "pivotColumns": null,
        "xColumns": null,
        "yColumns": null
       },
       "removedWidgets": [],
       "schema": [],
       "type": "table"
      }
     },
     "output_type": "display_data"
    }
   ],
   "source": [
    "%sql\n",
    "CREATE OR REPLACE TEMP VIEW orders_tmp AS (\n",
    "  SELECT *, current_timestamp() arrival_time, input_file_name() source_file\n",
    "  FROM orders_raw_temp\n",
    ")\n",
    "--Next, we will enrich our raw data with additional metadata describing the source file and the time it was ingested. \n",
    "--Such information is useful for troubleshooting errors if corrupted data is encountered."
   ]
  },
  {
   "cell_type": "code",
   "execution_count": 0,
   "metadata": {
    "application/vnd.databricks.v1+cell": {
     "cellMetadata": {
      "byteLimit": 2048000,
      "implicitDf": true,
      "rowLimit": 10000
     },
     "inputWidgets": {},
     "nuid": "af57c8f7-fdf4-40ba-badc-8a023542d5d5",
     "showTitle": false,
     "title": ""
    }
   },
   "outputs": [
    {
     "output_type": "display_data",
     "data": {
      "text/html": [
       "<style scoped>\n",
       "  .table-result-container {\n",
       "    max-height: 300px;\n",
       "    overflow: auto;\n",
       "  }\n",
       "  table, th, td {\n",
       "    border: 1px solid black;\n",
       "    border-collapse: collapse;\n",
       "  }\n",
       "  th, td {\n",
       "    padding: 5px;\n",
       "  }\n",
       "  th {\n",
       "    text-align: left;\n",
       "  }\n",
       "</style><div class='table-result-container'><table class='table-result'><thead style='background-color: white'><tr><th>order_id</th><th>order_timestamp</th><th>customer_id</th><th>quantity</th><th>total</th><th>books</th><th>_rescued_data</th><th>arrival_time</th><th>source_file</th></tr></thead><tbody><tr><td>000000000006341</td><td>1657520256</td><td>C00788</td><td>1</td><td>41</td><td>List(List(B08, 1, 41))</td><td>null</td><td>2024-05-27T16:40:58.021+0000</td><td>dbfs:/mnt/demo-datasets/bookstore/orders-raw/01.parquet</td></tr><tr><td>000000000006342</td><td>1657520256</td><td>C00788</td><td>1</td><td>41</td><td>List(List(B08, 1, 41))</td><td>null</td><td>2024-05-27T16:40:58.021+0000</td><td>dbfs:/mnt/demo-datasets/bookstore/orders-raw/01.parquet</td></tr><tr><td>000000000006343</td><td>1657531717</td><td>C00654</td><td>1</td><td>28</td><td>List(List(B02, 1, 28))</td><td>null</td><td>2024-05-27T16:40:58.021+0000</td><td>dbfs:/mnt/demo-datasets/bookstore/orders-raw/01.parquet</td></tr><tr><td>000000000006344</td><td>1657531717</td><td>C00654</td><td>1</td><td>28</td><td>List(List(B02, 1, 28))</td><td>null</td><td>2024-05-27T16:40:58.021+0000</td><td>dbfs:/mnt/demo-datasets/bookstore/orders-raw/01.parquet</td></tr><tr><td>000000000006345</td><td>1657543676</td><td>C00762</td><td>1</td><td>49</td><td>List(List(B01, 1, 49))</td><td>null</td><td>2024-05-27T16:40:58.021+0000</td><td>dbfs:/mnt/demo-datasets/bookstore/orders-raw/01.parquet</td></tr><tr><td>000000000006346</td><td>1657543676</td><td>C00762</td><td>1</td><td>49</td><td>List(List(B01, 1, 49))</td><td>null</td><td>2024-05-27T16:40:58.021+0000</td><td>dbfs:/mnt/demo-datasets/bookstore/orders-raw/01.parquet</td></tr><tr><td>000000000006347</td><td>1657546079</td><td>C01014</td><td>1</td><td>28</td><td>List(List(B02, 1, 28))</td><td>null</td><td>2024-05-27T16:40:58.021+0000</td><td>dbfs:/mnt/demo-datasets/bookstore/orders-raw/01.parquet</td></tr><tr><td>000000000006348</td><td>1657546658</td><td>C00633</td><td>1</td><td>24</td><td>List(List(B09, 1, 24))</td><td>null</td><td>2024-05-27T16:40:58.021+0000</td><td>dbfs:/mnt/demo-datasets/bookstore/orders-raw/01.parquet</td></tr><tr><td>000000000006349</td><td>1657546658</td><td>C00633</td><td>1</td><td>24</td><td>List(List(B09, 1, 24))</td><td>null</td><td>2024-05-27T16:40:58.021+0000</td><td>dbfs:/mnt/demo-datasets/bookstore/orders-raw/01.parquet</td></tr><tr><td>000000000006350</td><td>1657547177</td><td>C00638</td><td>1</td><td>35</td><td>List(List(B03, 1, 35))</td><td>null</td><td>2024-05-27T16:40:58.021+0000</td><td>dbfs:/mnt/demo-datasets/bookstore/orders-raw/01.parquet</td></tr></tbody></table></div>"
      ]
     },
     "metadata": {
      "application/vnd.databricks.v1+output": {
       "addedWidgets": {},
       "aggData": [],
       "aggError": "",
       "aggOverflow": false,
       "aggSchema": [],
       "aggSeriesLimitReached": false,
       "aggType": "",
       "arguments": {},
       "columnCustomDisplayInfos": {},
       "data": [
        [
         "000000000006341",
         1657520256,
         "C00788",
         1,
         41,
         [
          [
           "B08",
           1,
           41
          ]
         ],
         null,
         "2024-05-27T16:40:58.021+0000",
         "dbfs:/mnt/demo-datasets/bookstore/orders-raw/01.parquet"
        ],
        [
         "000000000006342",
         1657520256,
         "C00788",
         1,
         41,
         [
          [
           "B08",
           1,
           41
          ]
         ],
         null,
         "2024-05-27T16:40:58.021+0000",
         "dbfs:/mnt/demo-datasets/bookstore/orders-raw/01.parquet"
        ],
        [
         "000000000006343",
         1657531717,
         "C00654",
         1,
         28,
         [
          [
           "B02",
           1,
           28
          ]
         ],
         null,
         "2024-05-27T16:40:58.021+0000",
         "dbfs:/mnt/demo-datasets/bookstore/orders-raw/01.parquet"
        ],
        [
         "000000000006344",
         1657531717,
         "C00654",
         1,
         28,
         [
          [
           "B02",
           1,
           28
          ]
         ],
         null,
         "2024-05-27T16:40:58.021+0000",
         "dbfs:/mnt/demo-datasets/bookstore/orders-raw/01.parquet"
        ],
        [
         "000000000006345",
         1657543676,
         "C00762",
         1,
         49,
         [
          [
           "B01",
           1,
           49
          ]
         ],
         null,
         "2024-05-27T16:40:58.021+0000",
         "dbfs:/mnt/demo-datasets/bookstore/orders-raw/01.parquet"
        ],
        [
         "000000000006346",
         1657543676,
         "C00762",
         1,
         49,
         [
          [
           "B01",
           1,
           49
          ]
         ],
         null,
         "2024-05-27T16:40:58.021+0000",
         "dbfs:/mnt/demo-datasets/bookstore/orders-raw/01.parquet"
        ],
        [
         "000000000006347",
         1657546079,
         "C01014",
         1,
         28,
         [
          [
           "B02",
           1,
           28
          ]
         ],
         null,
         "2024-05-27T16:40:58.021+0000",
         "dbfs:/mnt/demo-datasets/bookstore/orders-raw/01.parquet"
        ],
        [
         "000000000006348",
         1657546658,
         "C00633",
         1,
         24,
         [
          [
           "B09",
           1,
           24
          ]
         ],
         null,
         "2024-05-27T16:40:58.021+0000",
         "dbfs:/mnt/demo-datasets/bookstore/orders-raw/01.parquet"
        ],
        [
         "000000000006349",
         1657546658,
         "C00633",
         1,
         24,
         [
          [
           "B09",
           1,
           24
          ]
         ],
         null,
         "2024-05-27T16:40:58.021+0000",
         "dbfs:/mnt/demo-datasets/bookstore/orders-raw/01.parquet"
        ],
        [
         "000000000006350",
         1657547177,
         "C00638",
         1,
         35,
         [
          [
           "B03",
           1,
           35
          ]
         ],
         null,
         "2024-05-27T16:40:58.021+0000",
         "dbfs:/mnt/demo-datasets/bookstore/orders-raw/01.parquet"
        ]
       ],
       "datasetInfos": [],
       "dbfsResultPath": null,
       "isJsonSchema": true,
       "metadata": {
        "isDbfsCommandResult": false
       },
       "overflow": false,
       "plotOptions": {
        "customPlotOptions": {},
        "displayType": "table",
        "pivotAggregation": null,
        "pivotColumns": null,
        "xColumns": null,
        "yColumns": null
       },
       "removedWidgets": [],
       "schema": [
        {
         "metadata": "{}",
         "name": "order_id",
         "type": "\"string\""
        },
        {
         "metadata": "{}",
         "name": "order_timestamp",
         "type": "\"long\""
        },
        {
         "metadata": "{}",
         "name": "customer_id",
         "type": "\"string\""
        },
        {
         "metadata": "{}",
         "name": "quantity",
         "type": "\"long\""
        },
        {
         "metadata": "{}",
         "name": "total",
         "type": "\"integer\""
        },
        {
         "metadata": "{}",
         "name": "books",
         "type": "{\"type\":\"array\",\"elementType\":{\"type\":\"struct\",\"fields\":[{\"name\":\"book_id\",\"type\":\"string\",\"nullable\":true,\"metadata\":{}},{\"name\":\"quantity\",\"type\":\"integer\",\"nullable\":true,\"metadata\":{}},{\"name\":\"subtotal\",\"type\":\"long\",\"nullable\":true,\"metadata\":{}}]},\"containsNull\":true}"
        },
        {
         "metadata": "{}",
         "name": "_rescued_data",
         "type": "\"string\""
        },
        {
         "metadata": "{}",
         "name": "arrival_time",
         "type": "\"timestamp\""
        },
        {
         "metadata": "{}",
         "name": "source_file",
         "type": "\"string\""
        }
       ],
       "type": "table"
      }
     },
     "output_type": "display_data"
    }
   ],
   "source": [
    "%sql\n",
    "SELECT * FROM orders_tmp LIMIT 10;"
   ]
  },
  {
   "cell_type": "code",
   "execution_count": 0,
   "metadata": {
    "application/vnd.databricks.v1+cell": {
     "cellMetadata": {
      "byteLimit": 2048000,
      "rowLimit": 10000
     },
     "inputWidgets": {},
     "nuid": "dd891551-429b-4904-a4b7-4f8e70b8b05e",
     "showTitle": false,
     "title": ""
    }
   },
   "outputs": [
    {
     "output_type": "stream",
     "name": "stdout",
     "output_type": "stream",
     "text": [
      "Out[18]: <pyspark.sql.streaming.query.StreamingQuery at 0x7f0eebe79760>"
     ]
    }
   ],
   "source": [
    "# Now, we are going to pass this enriched data back to PySpark API to process an incremental write to a Delta Lake table called \"new_orders_bronze\"\n",
    "(spark.table(\"orders_tmp\")\n",
    "        .writeStream\n",
    "        .format(\"delta\")\n",
    "        .option(\"checkpointLocation\",\"dbfs:/mnt/demo/checkpoints/new_orders_bronze\")\n",
    "        .outputMode(\"append\")\n",
    "        .table(\"new_orders_bronze\"))\n",
    "# Whenever you new data is detected by the STREAMING QUERY the graph would spike up indicating loading the new data "
   ]
  },
  {
   "cell_type": "code",
   "execution_count": 0,
   "metadata": {
    "application/vnd.databricks.v1+cell": {
     "cellMetadata": {
      "byteLimit": 2048000,
      "implicitDf": true,
      "rowLimit": 10000
     },
     "inputWidgets": {},
     "nuid": "e74c6452-6c97-432c-9a38-37a873d6c6a0",
     "showTitle": false,
     "title": ""
    }
   },
   "outputs": [
    {
     "output_type": "display_data",
     "data": {
      "text/html": [
       "<style scoped>\n",
       "  .table-result-container {\n",
       "    max-height: 300px;\n",
       "    overflow: auto;\n",
       "  }\n",
       "  table, th, td {\n",
       "    border: 1px solid black;\n",
       "    border-collapse: collapse;\n",
       "  }\n",
       "  th, td {\n",
       "    padding: 5px;\n",
       "  }\n",
       "  th {\n",
       "    text-align: left;\n",
       "  }\n",
       "</style><div class='table-result-container'><table class='table-result'><thead style='background-color: white'><tr><th>count(1)</th></tr></thead><tbody><tr><td>3000</td></tr></tbody></table></div>"
      ]
     },
     "metadata": {
      "application/vnd.databricks.v1+output": {
       "addedWidgets": {},
       "aggData": [],
       "aggError": "",
       "aggOverflow": false,
       "aggSchema": [],
       "aggSeriesLimitReached": false,
       "aggType": "",
       "arguments": {},
       "columnCustomDisplayInfos": {},
       "data": [
        [
         3000
        ]
       ],
       "datasetInfos": [],
       "dbfsResultPath": null,
       "isJsonSchema": true,
       "metadata": {},
       "overflow": false,
       "plotOptions": {
        "customPlotOptions": {},
        "displayType": "table",
        "pivotAggregation": null,
        "pivotColumns": null,
        "xColumns": null,
        "yColumns": null
       },
       "removedWidgets": [],
       "schema": [
        {
         "metadata": "{\"__autoGeneratedAlias\":\"true\"}",
         "name": "count(1)",
         "type": "\"long\""
        }
       ],
       "type": "table"
      }
     },
     "output_type": "display_data"
    }
   ],
   "source": [
    "%sql\n",
    "SELECT COUNT(*) FROM new_orders_bronze;"
   ]
  },
  {
   "cell_type": "code",
   "execution_count": 0,
   "metadata": {
    "application/vnd.databricks.v1+cell": {
     "cellMetadata": {
      "byteLimit": 2048000,
      "rowLimit": 10000
     },
     "inputWidgets": {},
     "nuid": "9f4104ec-d302-4ae7-a452-b5b5db154773",
     "showTitle": false,
     "title": ""
    }
   },
   "outputs": [
    {
     "output_type": "stream",
     "name": "stdout",
     "output_type": "stream",
     "text": [
      "Loading 04.parquet file to the bookstore dataset\n"
     ]
    }
   ],
   "source": [
    "load_new_data()\n",
    "# triggering another file arrival"
   ]
  },
  {
   "cell_type": "code",
   "execution_count": 0,
   "metadata": {
    "application/vnd.databricks.v1+cell": {
     "cellMetadata": {
      "byteLimit": 2048000,
      "implicitDf": true,
      "rowLimit": 10000
     },
     "inputWidgets": {},
     "nuid": "84809f19-fc6b-4eda-8784-d3030cb4ef73",
     "showTitle": false,
     "title": ""
    }
   },
   "outputs": [
    {
     "output_type": "display_data",
     "data": {
      "text/html": [
       "<style scoped>\n",
       "  .table-result-container {\n",
       "    max-height: 300px;\n",
       "    overflow: auto;\n",
       "  }\n",
       "  table, th, td {\n",
       "    border: 1px solid black;\n",
       "    border-collapse: collapse;\n",
       "  }\n",
       "  th, td {\n",
       "    padding: 5px;\n",
       "  }\n",
       "  th {\n",
       "    text-align: left;\n",
       "  }\n",
       "</style><div class='table-result-container'><table class='table-result'><thead style='background-color: white'><tr><th>count(1)</th></tr></thead><tbody><tr><td>4000</td></tr></tbody></table></div>"
      ]
     },
     "metadata": {
      "application/vnd.databricks.v1+output": {
       "addedWidgets": {},
       "aggData": [],
       "aggError": "",
       "aggOverflow": false,
       "aggSchema": [],
       "aggSeriesLimitReached": false,
       "aggType": "",
       "arguments": {},
       "columnCustomDisplayInfos": {},
       "data": [
        [
         4000
        ]
       ],
       "datasetInfos": [],
       "dbfsResultPath": null,
       "isJsonSchema": true,
       "metadata": {},
       "overflow": false,
       "plotOptions": {
        "customPlotOptions": {},
        "displayType": "table",
        "pivotAggregation": null,
        "pivotColumns": null,
        "xColumns": null,
        "yColumns": null
       },
       "removedWidgets": [],
       "schema": [
        {
         "metadata": "{\"__autoGeneratedAlias\":\"true\"}",
         "name": "count(1)",
         "type": "\"long\""
        }
       ],
       "type": "table"
      }
     },
     "output_type": "display_data"
    }
   ],
   "source": [
    "%sql\n",
    "SELECT COUNT(*) FROM new_orders_bronze;"
   ]
  },
  {
   "cell_type": "markdown",
   "metadata": {
    "application/vnd.databricks.v1+cell": {
     "cellMetadata": {},
     "inputWidgets": {},
     "nuid": "24cf27dd-e9a2-4836-a2cc-c5f9b27307f6",
     "showTitle": false,
     "title": ""
    }
   },
   "source": [
    "### ---------- SILVER LAYER ----------"
   ]
  },
  {
   "cell_type": "code",
   "execution_count": 0,
   "metadata": {
    "application/vnd.databricks.v1+cell": {
     "cellMetadata": {
      "byteLimit": 2048000,
      "rowLimit": 10000
     },
     "inputWidgets": {},
     "nuid": "5694a947-c2f4-4e29-9180-37b8ef8dcd55",
     "showTitle": false,
     "title": ""
    }
   },
   "outputs": [],
   "source": [
    "# we need a static lookup table to joining it with our bronze table.\n",
    "# Here we are creating a customers static temporary view from JSON files.\n",
    "# Here we are doing it with PySpark API, but we can also do it with Spark SQL.\n",
    "\n",
    "(spark.read \n",
    "        .format(\"json\")\n",
    "        .load(f\"{dataset_bookstore}/customers-json\")\n",
    "        .createOrReplaceTempView(\"customers_lookup\")\n",
    "        )"
   ]
  },
  {
   "cell_type": "code",
   "execution_count": 0,
   "metadata": {
    "application/vnd.databricks.v1+cell": {
     "cellMetadata": {
      "byteLimit": 2048000,
      "implicitDf": true,
      "rowLimit": 10000
     },
     "inputWidgets": {},
     "nuid": "a802e75a-0125-4f6c-9f91-601fc98b9b0a",
     "showTitle": false,
     "title": ""
    }
   },
   "outputs": [
    {
     "output_type": "display_data",
     "data": {
      "text/html": [
       "<style scoped>\n",
       "  .table-result-container {\n",
       "    max-height: 300px;\n",
       "    overflow: auto;\n",
       "  }\n",
       "  table, th, td {\n",
       "    border: 1px solid black;\n",
       "    border-collapse: collapse;\n",
       "  }\n",
       "  th, td {\n",
       "    padding: 5px;\n",
       "  }\n",
       "  th {\n",
       "    text-align: left;\n",
       "  }\n",
       "</style><div class='table-result-container'><table class='table-result'><thead style='background-color: white'><tr><th>customer_id</th><th>email</th><th>profile</th><th>updated</th></tr></thead><tbody><tr><td>C00301</td><td>thomas.lane@gmail.com</td><td>{\"first_name\":\"Thomas\",\"last_name\":\"Lane\",\"gender\":\"Male\",\"address\":{\"street\":\"06 Boulevard Victor Hugo\",\"city\":\"Paris\",\"country\":\"France\"}}</td><td>2021-12-14T23:15:43.375Z</td></tr><tr><td>C00302</td><td>ocolegatele@blogger.com</td><td>{\"first_name\":\"Odilia\",\"last_name\":\"Colegate\",\"gender\":\"Female\",\"address\":{\"street\":\"07 Sommers Parkway\",\"city\":\"Lyon\",\"country\":\"France\"}}</td><td>2021-12-14T23:15:43.375Z</td></tr><tr><td>C00303</td><td>acolledged2@nbcnews.com</td><td>{\"first_name\":\"Andros\",\"last_name\":\"Colledge\",\"gender\":\"Male\",\"address\":{\"street\":\"342 Katie Center\",\"city\":\"Gort\",\"country\":\"Ireland\"}}</td><td>2021-12-14T23:15:43.375Z</td></tr><tr><td>C00304</td><td>null</td><td>{\"first_name\":\"Iver\",\"last_name\":\"Collet\",\"gender\":\"Male\",\"address\":{\"street\":\"12126 Union Point\",\"city\":\"Iguape\",\"country\":\"Brazil\"}}</td><td>2021-12-14T23:15:43.375Z</td></tr><tr><td>C00305</td><td>pcollier5r@cmu.edu</td><td>{\"first_name\":\"Page\",\"last_name\":\"Collier\",\"gender\":\"Male\",\"address\":{\"street\":\"3 Farragut Lane\",\"city\":\"Berlin\",\"country\":\"Germany\"}}</td><td>2021-12-14T23:15:43.375Z</td></tr><tr><td>C00306</td><td>null</td><td>{\"first_name\":\"Tally\",\"last_name\":\"Collins\",\"gender\":\"Male\",\"address\":{\"street\":\"4 Hovde Park\",\"city\":\"Cairo\",\"country\":\"Egypt\"}}</td><td>2021-12-14T23:15:43.375Z</td></tr><tr><td>C00307</td><td>lcollocottcm@t-online.de</td><td>{\"first_name\":\"Leupold\",\"last_name\":\"Collocott\",\"gender\":\"Male\",\"address\":{\"street\":\"917 Stephen Circle\",\"city\":\"Dzerzhinskiy\",\"country\":\"Russia\"}}</td><td>2021-12-14T23:15:43.375Z</td></tr><tr><td>C00308</td><td>icolloughfa@prweb.com</td><td>{\"first_name\":\"Inesita\",\"last_name\":\"Collough\",\"gender\":\"Female\",\"address\":{\"street\":\"7910 Delladonna Street\",\"city\":\"Osoyoos\",\"country\":\"Canada\"}}</td><td>2021-12-14T23:15:43.375Z</td></tr><tr><td>C00309</td><td>jcollymore4n@pcworld.com</td><td>{\"first_name\":\"Joelle\",\"last_name\":\"Collymore\",\"gender\":\"Female\",\"address\":{\"street\":\"19 Dayton Court\",\"city\":\"Yidu\",\"country\":\"China\"}}</td><td>2021-12-14T23:15:43.375Z</td></tr><tr><td>C00310</td><td>gcolnetef@japanpost.jp</td><td>{\"first_name\":\"Goldi\",\"last_name\":\"Colnet\",\"gender\":\"Female\",\"address\":{\"street\":\"710 Knutson Place\",\"city\":\"Suso\",\"country\":\"Philippines\"}}</td><td>2021-12-14T23:15:43.375Z</td></tr></tbody></table></div>"
      ]
     },
     "metadata": {
      "application/vnd.databricks.v1+output": {
       "addedWidgets": {},
       "aggData": [],
       "aggError": "",
       "aggOverflow": false,
       "aggSchema": [],
       "aggSeriesLimitReached": false,
       "aggType": "",
       "arguments": {},
       "columnCustomDisplayInfos": {},
       "data": [
        [
         "C00301",
         "thomas.lane@gmail.com",
         "{\"first_name\":\"Thomas\",\"last_name\":\"Lane\",\"gender\":\"Male\",\"address\":{\"street\":\"06 Boulevard Victor Hugo\",\"city\":\"Paris\",\"country\":\"France\"}}",
         "2021-12-14T23:15:43.375Z"
        ],
        [
         "C00302",
         "ocolegatele@blogger.com",
         "{\"first_name\":\"Odilia\",\"last_name\":\"Colegate\",\"gender\":\"Female\",\"address\":{\"street\":\"07 Sommers Parkway\",\"city\":\"Lyon\",\"country\":\"France\"}}",
         "2021-12-14T23:15:43.375Z"
        ],
        [
         "C00303",
         "acolledged2@nbcnews.com",
         "{\"first_name\":\"Andros\",\"last_name\":\"Colledge\",\"gender\":\"Male\",\"address\":{\"street\":\"342 Katie Center\",\"city\":\"Gort\",\"country\":\"Ireland\"}}",
         "2021-12-14T23:15:43.375Z"
        ],
        [
         "C00304",
         null,
         "{\"first_name\":\"Iver\",\"last_name\":\"Collet\",\"gender\":\"Male\",\"address\":{\"street\":\"12126 Union Point\",\"city\":\"Iguape\",\"country\":\"Brazil\"}}",
         "2021-12-14T23:15:43.375Z"
        ],
        [
         "C00305",
         "pcollier5r@cmu.edu",
         "{\"first_name\":\"Page\",\"last_name\":\"Collier\",\"gender\":\"Male\",\"address\":{\"street\":\"3 Farragut Lane\",\"city\":\"Berlin\",\"country\":\"Germany\"}}",
         "2021-12-14T23:15:43.375Z"
        ],
        [
         "C00306",
         null,
         "{\"first_name\":\"Tally\",\"last_name\":\"Collins\",\"gender\":\"Male\",\"address\":{\"street\":\"4 Hovde Park\",\"city\":\"Cairo\",\"country\":\"Egypt\"}}",
         "2021-12-14T23:15:43.375Z"
        ],
        [
         "C00307",
         "lcollocottcm@t-online.de",
         "{\"first_name\":\"Leupold\",\"last_name\":\"Collocott\",\"gender\":\"Male\",\"address\":{\"street\":\"917 Stephen Circle\",\"city\":\"Dzerzhinskiy\",\"country\":\"Russia\"}}",
         "2021-12-14T23:15:43.375Z"
        ],
        [
         "C00308",
         "icolloughfa@prweb.com",
         "{\"first_name\":\"Inesita\",\"last_name\":\"Collough\",\"gender\":\"Female\",\"address\":{\"street\":\"7910 Delladonna Street\",\"city\":\"Osoyoos\",\"country\":\"Canada\"}}",
         "2021-12-14T23:15:43.375Z"
        ],
        [
         "C00309",
         "jcollymore4n@pcworld.com",
         "{\"first_name\":\"Joelle\",\"last_name\":\"Collymore\",\"gender\":\"Female\",\"address\":{\"street\":\"19 Dayton Court\",\"city\":\"Yidu\",\"country\":\"China\"}}",
         "2021-12-14T23:15:43.375Z"
        ],
        [
         "C00310",
         "gcolnetef@japanpost.jp",
         "{\"first_name\":\"Goldi\",\"last_name\":\"Colnet\",\"gender\":\"Female\",\"address\":{\"street\":\"710 Knutson Place\",\"city\":\"Suso\",\"country\":\"Philippines\"}}",
         "2021-12-14T23:15:43.375Z"
        ]
       ],
       "datasetInfos": [],
       "dbfsResultPath": null,
       "isJsonSchema": true,
       "metadata": {},
       "overflow": false,
       "plotOptions": {
        "customPlotOptions": {},
        "displayType": "table",
        "pivotAggregation": null,
        "pivotColumns": null,
        "xColumns": null,
        "yColumns": null
       },
       "removedWidgets": [],
       "schema": [
        {
         "metadata": "{}",
         "name": "customer_id",
         "type": "\"string\""
        },
        {
         "metadata": "{}",
         "name": "email",
         "type": "\"string\""
        },
        {
         "metadata": "{}",
         "name": "profile",
         "type": "\"string\""
        },
        {
         "metadata": "{}",
         "name": "updated",
         "type": "\"string\""
        }
       ],
       "type": "table"
      }
     },
     "output_type": "display_data"
    }
   ],
   "source": [
    "%sql\n",
    "SELECT * FROM customers_lookup LIMIT 10;"
   ]
  },
  {
   "cell_type": "code",
   "execution_count": 0,
   "metadata": {
    "application/vnd.databricks.v1+cell": {
     "cellMetadata": {
      "byteLimit": 2048000,
      "rowLimit": 10000
     },
     "inputWidgets": {},
     "nuid": "a499b239-3a7c-4403-b45f-b5307ed2d732",
     "showTitle": false,
     "title": ""
    }
   },
   "outputs": [],
   "source": [
    "# To work on our bronze data in the silver layer\n",
    "# we will start by creating a streaming temporary view against our bronze table.\n",
    "(spark.readStream\n",
    "        .table(\"new_orders_bronze\")\n",
    "        .createOrReplaceTempView(\"orders_bronze_tmp\"))"
   ]
  },
  {
   "cell_type": "code",
   "execution_count": 0,
   "metadata": {
    "application/vnd.databricks.v1+cell": {
     "cellMetadata": {
      "byteLimit": 2048000,
      "implicitDf": true,
      "rowLimit": 10000
     },
     "inputWidgets": {},
     "nuid": "9e5f2443-f7fc-449d-8832-cc1bff530b40",
     "showTitle": false,
     "title": ""
    }
   },
   "outputs": [
    {
     "output_type": "display_data",
     "data": {
      "text/html": [
       "<style scoped>\n",
       "  .table-result-container {\n",
       "    max-height: 300px;\n",
       "    overflow: auto;\n",
       "  }\n",
       "  table, th, td {\n",
       "    border: 1px solid black;\n",
       "    border-collapse: collapse;\n",
       "  }\n",
       "  th, td {\n",
       "    padding: 5px;\n",
       "  }\n",
       "  th {\n",
       "    text-align: left;\n",
       "  }\n",
       "</style><div class='table-result-container'><table class='table-result'><thead style='background-color: white'><tr></tr></thead><tbody></tbody></table></div>"
      ]
     },
     "metadata": {
      "application/vnd.databricks.v1+output": {
       "addedWidgets": {},
       "aggData": [],
       "aggError": "",
       "aggOverflow": false,
       "aggSchema": [],
       "aggSeriesLimitReached": false,
       "aggType": "",
       "arguments": {},
       "columnCustomDisplayInfos": {},
       "data": [],
       "datasetInfos": [],
       "dbfsResultPath": null,
       "isJsonSchema": true,
       "metadata": {},
       "overflow": false,
       "plotOptions": {
        "customPlotOptions": {},
        "displayType": "table",
        "pivotAggregation": null,
        "pivotColumns": null,
        "xColumns": null,
        "yColumns": null
       },
       "removedWidgets": [],
       "schema": [],
       "type": "table"
      }
     },
     "output_type": "display_data"
    }
   ],
   "source": [
    "%sql\n",
    "-- In this silver level, we are doing several enrichments and checks.\n",
    "-- First, we join the order data with the customers information to add customers names.\n",
    "-- And we parse the order timestamp from Unix timestamp into human readable format. \n",
    "-- And lastly, we exclude any order with no items, if any.\n",
    "\n",
    "CREATE OR REPLACE TEMPORARY VIEW orders_enriched_tmp AS (\n",
    "  SELECT order_id, quantity, o.customer_id, c.profile:first_name AS f_name , c.profile:last_name AS l_name,\n",
    "        CAST(from_unixtime(order_timestamp, 'yyyy-MM-dd HH:mm:ss') AS timestamp) order_timestamp, books\n",
    "  FROM orders_bronze_tmp o\n",
    "  INNER JOIN customers_lookup c \n",
    "  ON o.customer_id = c.customer_id\n",
    "  WHERE quantity > 0)\n"
   ]
  },
  {
   "cell_type": "code",
   "execution_count": 0,
   "metadata": {
    "application/vnd.databricks.v1+cell": {
     "cellMetadata": {
      "byteLimit": 2048000,
      "rowLimit": 10000
     },
     "inputWidgets": {},
     "nuid": "23a02e4a-8770-4a15-9051-e2f2bef3046d",
     "showTitle": false,
     "title": ""
    }
   },
   "outputs": [
    {
     "output_type": "stream",
     "name": "stdout",
     "output_type": "stream",
     "text": [
      "Out[31]: <pyspark.sql.streaming.query.StreamingQuery at 0x7f0eebe799d0>"
     ]
    }
   ],
   "source": [
    "# Let us do a STREAM WRITE for this \"orders_enriched_tmp\" data into a SILVER TABLE\n",
    "(spark.table(\"orders_enriched_tmp\")\n",
    "        .writeStream\n",
    "        .format(\"delta\")\n",
    "        .option(\"checkpointLocation\",\"dbfs:/mnt/demo/checkpoints/orders_silver\")\n",
    "        .outputMode(\"append\")\n",
    "        .table(\"orders_silver\"))\n",
    "# The data has been processed with the Stream"
   ]
  },
  {
   "cell_type": "code",
   "execution_count": 0,
   "metadata": {
    "application/vnd.databricks.v1+cell": {
     "cellMetadata": {
      "byteLimit": 2048000,
      "implicitDf": true,
      "rowLimit": 10000
     },
     "inputWidgets": {},
     "nuid": "b531eeb3-de08-4607-a51b-8a88b92fd281",
     "showTitle": false,
     "title": ""
    }
   },
   "outputs": [
    {
     "output_type": "display_data",
     "data": {
      "text/html": [
       "<style scoped>\n",
       "  .table-result-container {\n",
       "    max-height: 300px;\n",
       "    overflow: auto;\n",
       "  }\n",
       "  table, th, td {\n",
       "    border: 1px solid black;\n",
       "    border-collapse: collapse;\n",
       "  }\n",
       "  th, td {\n",
       "    padding: 5px;\n",
       "  }\n",
       "  th {\n",
       "    text-align: left;\n",
       "  }\n",
       "</style><div class='table-result-container'><table class='table-result'><thead style='background-color: white'><tr><th>order_id</th><th>quantity</th><th>customer_id</th><th>f_name</th><th>l_name</th><th>order_timestamp</th><th>books</th></tr></thead><tbody><tr><td>000000000009397</td><td>1</td><td>C00494</td><td>Sherlocke</td><td>Fairbard</td><td>2022-07-12T17:13:57.000+0000</td><td>List(List(B08, 1, 41))</td></tr><tr><td>000000000009396</td><td>1</td><td>C00494</td><td>Sherlocke</td><td>Fairbard</td><td>2022-07-12T17:13:57.000+0000</td><td>List(List(B08, 1, 41))</td></tr><tr><td>000000000007397</td><td>1</td><td>C00494</td><td>Sherlocke</td><td>Fairbard</td><td>2022-07-12T17:13:57.000+0000</td><td>List(List(B08, 1, 41))</td></tr><tr><td>000000000007396</td><td>1</td><td>C00494</td><td>Sherlocke</td><td>Fairbard</td><td>2022-07-12T17:13:57.000+0000</td><td>List(List(B08, 1, 41))</td></tr><tr><td>000000000008397</td><td>1</td><td>C00494</td><td>Sherlocke</td><td>Fairbard</td><td>2022-07-12T17:13:57.000+0000</td><td>List(List(B08, 1, 41))</td></tr><tr><td>000000000008396</td><td>1</td><td>C00494</td><td>Sherlocke</td><td>Fairbard</td><td>2022-07-12T17:13:57.000+0000</td><td>List(List(B08, 1, 41))</td></tr><tr><td>000000000006397</td><td>1</td><td>C00494</td><td>Sherlocke</td><td>Fairbard</td><td>2022-07-12T17:13:57.000+0000</td><td>List(List(B08, 1, 41))</td></tr><tr><td>000000000006396</td><td>1</td><td>C00494</td><td>Sherlocke</td><td>Fairbard</td><td>2022-07-12T17:13:57.000+0000</td><td>List(List(B08, 1, 41))</td></tr><tr><td>000000000009406</td><td>1</td><td>C00495</td><td>Kerrie</td><td>Falcus</td><td>2022-07-12T19:17:02.000+0000</td><td>List(List(B09, 1, 24))</td></tr><tr><td>000000000009405</td><td>1</td><td>C00495</td><td>Kerrie</td><td>Falcus</td><td>2022-07-12T19:17:02.000+0000</td><td>List(List(B09, 1, 24))</td></tr></tbody></table></div>"
      ]
     },
     "metadata": {
      "application/vnd.databricks.v1+output": {
       "addedWidgets": {},
       "aggData": [],
       "aggError": "",
       "aggOverflow": false,
       "aggSchema": [],
       "aggSeriesLimitReached": false,
       "aggType": "",
       "arguments": {},
       "columnCustomDisplayInfos": {},
       "data": [
        [
         "000000000009397",
         1,
         "C00494",
         "Sherlocke",
         "Fairbard",
         "2022-07-12T17:13:57.000+0000",
         [
          [
           "B08",
           1,
           41
          ]
         ]
        ],
        [
         "000000000009396",
         1,
         "C00494",
         "Sherlocke",
         "Fairbard",
         "2022-07-12T17:13:57.000+0000",
         [
          [
           "B08",
           1,
           41
          ]
         ]
        ],
        [
         "000000000007397",
         1,
         "C00494",
         "Sherlocke",
         "Fairbard",
         "2022-07-12T17:13:57.000+0000",
         [
          [
           "B08",
           1,
           41
          ]
         ]
        ],
        [
         "000000000007396",
         1,
         "C00494",
         "Sherlocke",
         "Fairbard",
         "2022-07-12T17:13:57.000+0000",
         [
          [
           "B08",
           1,
           41
          ]
         ]
        ],
        [
         "000000000008397",
         1,
         "C00494",
         "Sherlocke",
         "Fairbard",
         "2022-07-12T17:13:57.000+0000",
         [
          [
           "B08",
           1,
           41
          ]
         ]
        ],
        [
         "000000000008396",
         1,
         "C00494",
         "Sherlocke",
         "Fairbard",
         "2022-07-12T17:13:57.000+0000",
         [
          [
           "B08",
           1,
           41
          ]
         ]
        ],
        [
         "000000000006397",
         1,
         "C00494",
         "Sherlocke",
         "Fairbard",
         "2022-07-12T17:13:57.000+0000",
         [
          [
           "B08",
           1,
           41
          ]
         ]
        ],
        [
         "000000000006396",
         1,
         "C00494",
         "Sherlocke",
         "Fairbard",
         "2022-07-12T17:13:57.000+0000",
         [
          [
           "B08",
           1,
           41
          ]
         ]
        ],
        [
         "000000000009406",
         1,
         "C00495",
         "Kerrie",
         "Falcus",
         "2022-07-12T19:17:02.000+0000",
         [
          [
           "B09",
           1,
           24
          ]
         ]
        ],
        [
         "000000000009405",
         1,
         "C00495",
         "Kerrie",
         "Falcus",
         "2022-07-12T19:17:02.000+0000",
         [
          [
           "B09",
           1,
           24
          ]
         ]
        ]
       ],
       "datasetInfos": [],
       "dbfsResultPath": null,
       "isJsonSchema": true,
       "metadata": {},
       "overflow": false,
       "plotOptions": {
        "customPlotOptions": {},
        "displayType": "table",
        "pivotAggregation": null,
        "pivotColumns": null,
        "xColumns": null,
        "yColumns": null
       },
       "removedWidgets": [],
       "schema": [
        {
         "metadata": "{}",
         "name": "order_id",
         "type": "\"string\""
        },
        {
         "metadata": "{}",
         "name": "quantity",
         "type": "\"long\""
        },
        {
         "metadata": "{}",
         "name": "customer_id",
         "type": "\"string\""
        },
        {
         "metadata": "{}",
         "name": "f_name",
         "type": "\"string\""
        },
        {
         "metadata": "{}",
         "name": "l_name",
         "type": "\"string\""
        },
        {
         "metadata": "{}",
         "name": "order_timestamp",
         "type": "\"timestamp\""
        },
        {
         "metadata": "{}",
         "name": "books",
         "type": "{\"type\":\"array\",\"elementType\":{\"type\":\"struct\",\"fields\":[{\"name\":\"book_id\",\"type\":\"string\",\"nullable\":true,\"metadata\":{}},{\"name\":\"quantity\",\"type\":\"integer\",\"nullable\":true,\"metadata\":{}},{\"name\":\"subtotal\",\"type\":\"long\",\"nullable\":true,\"metadata\":{}}]},\"containsNull\":true}"
        }
       ],
       "type": "table"
      }
     },
     "output_type": "display_data"
    }
   ],
   "source": [
    "%sql\n",
    "-- Lets query our SILVER TABLE\n",
    "SELECT * FROM orders_silver LIMIT 10;"
   ]
  },
  {
   "cell_type": "code",
   "execution_count": 0,
   "metadata": {
    "application/vnd.databricks.v1+cell": {
     "cellMetadata": {
      "byteLimit": 2048000,
      "implicitDf": true,
      "rowLimit": 10000
     },
     "inputWidgets": {},
     "nuid": "8b5de024-6f6e-4f0c-834a-6867ad771385",
     "showTitle": false,
     "title": ""
    }
   },
   "outputs": [
    {
     "output_type": "display_data",
     "data": {
      "text/html": [
       "<style scoped>\n",
       "  .table-result-container {\n",
       "    max-height: 300px;\n",
       "    overflow: auto;\n",
       "  }\n",
       "  table, th, td {\n",
       "    border: 1px solid black;\n",
       "    border-collapse: collapse;\n",
       "  }\n",
       "  th, td {\n",
       "    padding: 5px;\n",
       "  }\n",
       "  th {\n",
       "    text-align: left;\n",
       "  }\n",
       "</style><div class='table-result-container'><table class='table-result'><thead style='background-color: white'><tr><th>count(1)</th></tr></thead><tbody><tr><td>4000</td></tr></tbody></table></div>"
      ]
     },
     "metadata": {
      "application/vnd.databricks.v1+output": {
       "addedWidgets": {},
       "aggData": [],
       "aggError": "",
       "aggOverflow": false,
       "aggSchema": [],
       "aggSeriesLimitReached": false,
       "aggType": "",
       "arguments": {},
       "columnCustomDisplayInfos": {},
       "data": [
        [
         4000
        ]
       ],
       "datasetInfos": [],
       "dbfsResultPath": null,
       "isJsonSchema": true,
       "metadata": {},
       "overflow": false,
       "plotOptions": {
        "customPlotOptions": {},
        "displayType": "table",
        "pivotAggregation": null,
        "pivotColumns": null,
        "xColumns": null,
        "yColumns": null
       },
       "removedWidgets": [],
       "schema": [
        {
         "metadata": "{\"__autoGeneratedAlias\":\"true\"}",
         "name": "count(1)",
         "type": "\"long\""
        }
       ],
       "type": "table"
      }
     },
     "output_type": "display_data"
    }
   ],
   "source": [
    "%sql\n",
    "SELECT COUNT(*) FROM orders_silver;\n",
    "-- Great! we have successfully processed all the 4000 Records"
   ]
  },
  {
   "cell_type": "code",
   "execution_count": 0,
   "metadata": {
    "application/vnd.databricks.v1+cell": {
     "cellMetadata": {
      "byteLimit": 2048000,
      "rowLimit": 10000
     },
     "inputWidgets": {},
     "nuid": "fedabdfe-df6a-4fad-b1d6-e27dcd786722",
     "showTitle": false,
     "title": ""
    }
   },
   "outputs": [
    {
     "output_type": "stream",
     "name": "stdout",
     "output_type": "stream",
     "text": [
      "Loading 05.parquet file to the bookstore dataset\n"
     ]
    }
   ],
   "source": [
    "load_new_data()\n",
    "#Lets load another new file , and watch how it is propagated through the STREAM , from BRONZE to SILVER LAYER"
   ]
  },
  {
   "cell_type": "code",
   "execution_count": 0,
   "metadata": {
    "application/vnd.databricks.v1+cell": {
     "cellMetadata": {
      "byteLimit": 2048000,
      "implicitDf": true,
      "rowLimit": 10000
     },
     "inputWidgets": {},
     "nuid": "39098891-89f2-4379-8c98-44f7ae4ac65a",
     "showTitle": false,
     "title": ""
    }
   },
   "outputs": [
    {
     "output_type": "display_data",
     "data": {
      "text/html": [
       "<style scoped>\n",
       "  .table-result-container {\n",
       "    max-height: 300px;\n",
       "    overflow: auto;\n",
       "  }\n",
       "  table, th, td {\n",
       "    border: 1px solid black;\n",
       "    border-collapse: collapse;\n",
       "  }\n",
       "  th, td {\n",
       "    padding: 5px;\n",
       "  }\n",
       "  th {\n",
       "    text-align: left;\n",
       "  }\n",
       "</style><div class='table-result-container'><table class='table-result'><thead style='background-color: white'><tr><th>count(1)</th></tr></thead><tbody><tr><td>5000</td></tr></tbody></table></div>"
      ]
     },
     "metadata": {
      "application/vnd.databricks.v1+output": {
       "addedWidgets": {},
       "aggData": [],
       "aggError": "",
       "aggOverflow": false,
       "aggSchema": [],
       "aggSeriesLimitReached": false,
       "aggType": "",
       "arguments": {},
       "columnCustomDisplayInfos": {},
       "data": [
        [
         5000
        ]
       ],
       "datasetInfos": [],
       "dbfsResultPath": null,
       "isJsonSchema": true,
       "metadata": {},
       "overflow": false,
       "plotOptions": {
        "customPlotOptions": {},
        "displayType": "table",
        "pivotAggregation": null,
        "pivotColumns": null,
        "xColumns": null,
        "yColumns": null
       },
       "removedWidgets": [],
       "schema": [
        {
         "metadata": "{\"__autoGeneratedAlias\":\"true\"}",
         "name": "count(1)",
         "type": "\"long\""
        }
       ],
       "type": "table"
      }
     },
     "output_type": "display_data"
    }
   ],
   "source": [
    "%sql\n",
    "SELECT COUNT(*) FROM orders_silver;\n",
    "-- Great! now we have 5000 records"
   ]
  },
  {
   "cell_type": "markdown",
   "metadata": {
    "application/vnd.databricks.v1+cell": {
     "cellMetadata": {},
     "inputWidgets": {},
     "nuid": "12656441-ae51-4299-93e6-9cddfb1ecf7e",
     "showTitle": false,
     "title": ""
    }
   },
   "source": [
    "### ---------- GOLD LAYER ----------"
   ]
  },
  {
   "cell_type": "code",
   "execution_count": 0,
   "metadata": {
    "application/vnd.databricks.v1+cell": {
     "cellMetadata": {
      "byteLimit": 2048000,
      "rowLimit": 10000
     },
     "inputWidgets": {},
     "nuid": "a668243b-1ade-4d48-a6b2-c17c27a2d36d",
     "showTitle": false,
     "title": ""
    }
   },
   "outputs": [],
   "source": [
    "# We create a STREAMING TEMP VIEW \"orders_silver_tmp\" from the SILVER TABLE\n",
    "(spark.readStream\n",
    "        .table(\"orders_silver\")\n",
    "        .createOrReplaceTempView(\"orders_silver_tmp\"))"
   ]
  },
  {
   "cell_type": "code",
   "execution_count": 0,
   "metadata": {
    "application/vnd.databricks.v1+cell": {
     "cellMetadata": {
      "byteLimit": 2048000,
      "implicitDf": true,
      "rowLimit": 10000
     },
     "inputWidgets": {},
     "nuid": "a4f900dc-c1b0-4975-8525-830a812fb756",
     "showTitle": false,
     "title": ""
    }
   },
   "outputs": [
    {
     "output_type": "display_data",
     "data": {
      "text/html": [
       "<style scoped>\n",
       "  .table-result-container {\n",
       "    max-height: 300px;\n",
       "    overflow: auto;\n",
       "  }\n",
       "  table, th, td {\n",
       "    border: 1px solid black;\n",
       "    border-collapse: collapse;\n",
       "  }\n",
       "  th, td {\n",
       "    padding: 5px;\n",
       "  }\n",
       "  th {\n",
       "    text-align: left;\n",
       "  }\n",
       "</style><div class='table-result-container'><table class='table-result'><thead style='background-color: white'><tr></tr></thead><tbody></tbody></table></div>"
      ]
     },
     "metadata": {
      "application/vnd.databricks.v1+output": {
       "addedWidgets": {},
       "aggData": [],
       "aggError": "",
       "aggOverflow": false,
       "aggSchema": [],
       "aggSeriesLimitReached": false,
       "aggType": "",
       "arguments": {},
       "columnCustomDisplayInfos": {},
       "data": [],
       "datasetInfos": [],
       "dbfsResultPath": null,
       "isJsonSchema": true,
       "metadata": {},
       "overflow": false,
       "plotOptions": {
        "customPlotOptions": {},
        "displayType": "table",
        "pivotAggregation": null,
        "pivotColumns": null,
        "xColumns": null,
        "yColumns": null
       },
       "removedWidgets": [],
       "schema": [],
       "type": "table"
      }
     },
     "output_type": "display_data"
    }
   ],
   "source": [
    "%sql\n",
    "-- Now, we write another STREAM to create an AGGREGATE GOLD TABLE for the daily number of books for each customer\n",
    "CREATE OR REPLACE TEMP VIEW daily_customer_books_tmp AS (\n",
    "  SELECT customer_id,f_name,l_name,date_trunc(\"DD\",order_timestamp) order_date , SUM(quantity) books_counts\n",
    "  FROM orders_silver_tmp\n",
    "  GROUP BY customer_id,f_name,l_name, order_date\n",
    "\n",
    ")"
   ]
  },
  {
   "cell_type": "code",
   "execution_count": 0,
   "metadata": {
    "application/vnd.databricks.v1+cell": {
     "cellMetadata": {
      "byteLimit": 2048000,
      "rowLimit": 10000
     },
     "inputWidgets": {},
     "nuid": "632ad9ef-cc50-4c7b-a2e3-1c9420838071",
     "showTitle": false,
     "title": ""
    }
   },
   "outputs": [
    {
     "output_type": "stream",
     "name": "stdout",
     "output_type": "stream",
     "text": [
      "Out[38]: <pyspark.sql.streaming.query.StreamingQuery at 0x7f0eeb5900d0>"
     ]
    }
   ],
   "source": [
    "# Let us write this aggregated data into a GOLD TABLE called \"daily_customer_books\"\n",
    "(spark.table(\"daily_customer_books_tmp\")\n",
    "        .writeStream\n",
    "        .format(\"delta\")\n",
    "        .outputMode(\"complete\")\n",
    "        .option(\"checkpointLocation\",\"dbfs:/mnt/demo/checkpoints/daily_customer_books\")\n",
    "        .trigger(availableNow=True) # The STREAM will process all available data in microbatches and stop on its own due to the type of trigger chosen\n",
    "        .table(\"daily_customer_books\")\n",
    "        )\n",
    "     \n",
    "# We can combine STREAMING and BATCH workloads in the same PIPELINE"
   ]
  },
  {
   "cell_type": "markdown",
   "metadata": {
    "application/vnd.databricks.v1+cell": {
     "cellMetadata": {},
     "inputWidgets": {},
     "nuid": "450a88e4-d7b6-44c2-8e83-d701e79e6b77",
     "showTitle": false,
     "title": ""
    }
   },
   "source": [
    "* Once the table **\"daily_customer_books\"** is updated or overwritten it is no longer valid for STREAMING\n",
    "* So,in our case here we cannot read a stream from this **GOLD TABLE** .\n"
   ]
  },
  {
   "cell_type": "code",
   "execution_count": 0,
   "metadata": {
    "application/vnd.databricks.v1+cell": {
     "cellMetadata": {
      "byteLimit": 2048000,
      "implicitDf": true,
      "rowLimit": 10000
     },
     "inputWidgets": {},
     "nuid": "56d6de91-ec42-41c4-a39f-9c7c0880d910",
     "showTitle": false,
     "title": ""
    }
   },
   "outputs": [
    {
     "output_type": "display_data",
     "data": {
      "text/html": [
       "<style scoped>\n",
       "  .table-result-container {\n",
       "    max-height: 300px;\n",
       "    overflow: auto;\n",
       "  }\n",
       "  table, th, td {\n",
       "    border: 1px solid black;\n",
       "    border-collapse: collapse;\n",
       "  }\n",
       "  th, td {\n",
       "    padding: 5px;\n",
       "  }\n",
       "  th {\n",
       "    text-align: left;\n",
       "  }\n",
       "</style><div class='table-result-container'><table class='table-result'><thead style='background-color: white'><tr><th>customer_id</th><th>f_name</th><th>l_name</th><th>order_date</th><th>books_counts</th></tr></thead><tbody><tr><td>C00873</td><td>Pauly</td><td>Lattka</td><td>2022-07-26T00:00:00.000+0000</td><td>5</td></tr><tr><td>C00804</td><td>Kenneth</td><td>Kiehl</td><td>2022-07-29T00:00:00.000+0000</td><td>5</td></tr><tr><td>C00803</td><td>Zollie</td><td>Kiddy</td><td>2022-07-14T00:00:00.000+0000</td><td>5</td></tr><tr><td>C01150</td><td>Natale</td><td>O'Luby</td><td>2022-07-26T00:00:00.000+0000</td><td>5</td></tr><tr><td>C00779</td><td>Samson</td><td>Josephy</td><td>2022-07-27T00:00:00.000+0000</td><td>10</td></tr><tr><td>C01120</td><td>Carrissa</td><td>Nairn</td><td>2022-07-30T00:00:00.000+0000</td><td>5</td></tr><tr><td>C01011</td><td>Nickey</td><td>McBeith</td><td>2022-07-16T00:00:00.000+0000</td><td>5</td></tr><tr><td>C01121</td><td>Deanne</td><td>Nani</td><td>2022-07-13T00:00:00.000+0000</td><td>5</td></tr><tr><td>C00807</td><td>Irwinn</td><td>Kike</td><td>2022-07-23T00:00:00.000+0000</td><td>5</td></tr><tr><td>C00755</td><td>Melessa</td><td>Jans</td><td>2022-07-29T00:00:00.000+0000</td><td>10</td></tr></tbody></table></div>"
      ]
     },
     "metadata": {
      "application/vnd.databricks.v1+output": {
       "addedWidgets": {},
       "aggData": [],
       "aggError": "",
       "aggOverflow": false,
       "aggSchema": [],
       "aggSeriesLimitReached": false,
       "aggType": "",
       "arguments": {},
       "columnCustomDisplayInfos": {},
       "data": [
        [
         "C00873",
         "Pauly",
         "Lattka",
         "2022-07-26T00:00:00.000+0000",
         5
        ],
        [
         "C00804",
         "Kenneth",
         "Kiehl",
         "2022-07-29T00:00:00.000+0000",
         5
        ],
        [
         "C00803",
         "Zollie",
         "Kiddy",
         "2022-07-14T00:00:00.000+0000",
         5
        ],
        [
         "C01150",
         "Natale",
         "O'Luby",
         "2022-07-26T00:00:00.000+0000",
         5
        ],
        [
         "C00779",
         "Samson",
         "Josephy",
         "2022-07-27T00:00:00.000+0000",
         10
        ],
        [
         "C01120",
         "Carrissa",
         "Nairn",
         "2022-07-30T00:00:00.000+0000",
         5
        ],
        [
         "C01011",
         "Nickey",
         "McBeith",
         "2022-07-16T00:00:00.000+0000",
         5
        ],
        [
         "C01121",
         "Deanne",
         "Nani",
         "2022-07-13T00:00:00.000+0000",
         5
        ],
        [
         "C00807",
         "Irwinn",
         "Kike",
         "2022-07-23T00:00:00.000+0000",
         5
        ],
        [
         "C00755",
         "Melessa",
         "Jans",
         "2022-07-29T00:00:00.000+0000",
         10
        ]
       ],
       "datasetInfos": [],
       "dbfsResultPath": null,
       "isJsonSchema": true,
       "metadata": {},
       "overflow": false,
       "plotOptions": {
        "customPlotOptions": {},
        "displayType": "table",
        "pivotAggregation": null,
        "pivotColumns": null,
        "xColumns": null,
        "yColumns": null
       },
       "removedWidgets": [],
       "schema": [
        {
         "metadata": "{}",
         "name": "customer_id",
         "type": "\"string\""
        },
        {
         "metadata": "{}",
         "name": "f_name",
         "type": "\"string\""
        },
        {
         "metadata": "{}",
         "name": "l_name",
         "type": "\"string\""
        },
        {
         "metadata": "{}",
         "name": "order_date",
         "type": "\"timestamp\""
        },
        {
         "metadata": "{}",
         "name": "books_counts",
         "type": "\"long\""
        }
       ],
       "type": "table"
      }
     },
     "output_type": "display_data"
    }
   ],
   "source": [
    "%sql\n",
    "-- Let use query the GOLD TABLE\n",
    "SELECT * FROM daily_customer_books LIMIT 10;"
   ]
  },
  {
   "cell_type": "code",
   "execution_count": 0,
   "metadata": {
    "application/vnd.databricks.v1+cell": {
     "cellMetadata": {
      "byteLimit": 2048000,
      "rowLimit": 10000
     },
     "inputWidgets": {},
     "nuid": "2b96b61c-2a16-4480-9868-74bad186a430",
     "showTitle": false,
     "title": ""
    }
   },
   "outputs": [
    {
     "output_type": "stream",
     "name": "stdout",
     "output_type": "stream",
     "text": [
      "Loading 06.parquet file to the bookstore dataset\nLoading 07.parquet file to the bookstore dataset\nLoading 08.parquet file to the bookstore dataset\nLoading 09.parquet file to the bookstore dataset\nLoading 10.parquet file to the bookstore dataset\n"
     ]
    }
   ],
   "source": [
    "# Let us now Land all the remaining data files in our sources directory\n",
    "load_new_data(all=True)"
   ]
  },
  {
   "cell_type": "markdown",
   "metadata": {
    "application/vnd.databricks.v1+cell": {
     "cellMetadata": {},
     "inputWidgets": {},
     "nuid": "44e9adf2-3e6c-4006-8266-b91072c3b2fa",
     "showTitle": false,
     "title": ""
    }
   },
   "source": [
    "* The new data will be propagated from **BRONZE** to **SILVER** layer.\n",
    "* For the **GOLD** layer , we rerun our final query to update the GOLD TABLE, since it is configured as a **BATCH JOB** using the *.trigger(availableNow=True)* command "
   ]
  },
  {
   "cell_type": "code",
   "execution_count": 0,
   "metadata": {
    "application/vnd.databricks.v1+cell": {
     "cellMetadata": {
      "byteLimit": 2048000,
      "rowLimit": 10000
     },
     "inputWidgets": {},
     "nuid": "e59ba643-6664-4f45-a732-94d8bf89f8a3",
     "showTitle": false,
     "title": ""
    }
   },
   "outputs": [
    {
     "output_type": "stream",
     "name": "stdout",
     "output_type": "stream",
     "text": [
      "Out[42]: <pyspark.sql.streaming.query.StreamingQuery at 0x7f0eeb5900a0>"
     ]
    }
   ],
   "source": [
    "(spark.table(\"daily_customer_books_tmp\")\n",
    "        .writeStream\n",
    "        .format(\"delta\")\n",
    "        .outputMode(\"complete\")\n",
    "        .option(\"checkpointLocation\",\"dbfs:/mnt/demo/checkpoints/daily_customer_books\")\n",
    "        .trigger(availableNow=True) # The STREAM will process all available data in microbatches and stop on its own due to the type of trigger chosen\n",
    "        .table(\"daily_customer_books\")\n",
    "        )"
   ]
  },
  {
   "cell_type": "code",
   "execution_count": 0,
   "metadata": {
    "application/vnd.databricks.v1+cell": {
     "cellMetadata": {
      "byteLimit": 2048000,
      "implicitDf": true,
      "rowLimit": 10000
     },
     "inputWidgets": {},
     "nuid": "bf3aeacd-6c95-47ac-9b1d-ac96587e50c4",
     "showTitle": false,
     "title": ""
    }
   },
   "outputs": [
    {
     "output_type": "display_data",
     "data": {
      "text/html": [
       "<style scoped>\n",
       "  .table-result-container {\n",
       "    max-height: 300px;\n",
       "    overflow: auto;\n",
       "  }\n",
       "  table, th, td {\n",
       "    border: 1px solid black;\n",
       "    border-collapse: collapse;\n",
       "  }\n",
       "  th, td {\n",
       "    padding: 5px;\n",
       "  }\n",
       "  th {\n",
       "    text-align: left;\n",
       "  }\n",
       "</style><div class='table-result-container'><table class='table-result'><thead style='background-color: white'><tr><th>customer_id</th><th>f_name</th><th>l_name</th><th>order_date</th><th>books_counts</th></tr></thead><tbody><tr><td>C00873</td><td>Pauly</td><td>Lattka</td><td>2022-07-26T00:00:00.000+0000</td><td>5</td></tr><tr><td>C00804</td><td>Kenneth</td><td>Kiehl</td><td>2022-07-29T00:00:00.000+0000</td><td>5</td></tr><tr><td>C00803</td><td>Zollie</td><td>Kiddy</td><td>2022-07-14T00:00:00.000+0000</td><td>5</td></tr><tr><td>C01150</td><td>Natale</td><td>O'Luby</td><td>2022-07-26T00:00:00.000+0000</td><td>5</td></tr><tr><td>C00779</td><td>Samson</td><td>Josephy</td><td>2022-07-27T00:00:00.000+0000</td><td>10</td></tr><tr><td>C01120</td><td>Carrissa</td><td>Nairn</td><td>2022-07-30T00:00:00.000+0000</td><td>5</td></tr><tr><td>C01011</td><td>Nickey</td><td>McBeith</td><td>2022-07-16T00:00:00.000+0000</td><td>5</td></tr><tr><td>C01121</td><td>Deanne</td><td>Nani</td><td>2022-07-13T00:00:00.000+0000</td><td>5</td></tr><tr><td>C00807</td><td>Irwinn</td><td>Kike</td><td>2022-07-23T00:00:00.000+0000</td><td>5</td></tr><tr><td>C00755</td><td>Melessa</td><td>Jans</td><td>2022-07-29T00:00:00.000+0000</td><td>10</td></tr><tr><td>C00841</td><td>Sterling</td><td>Kuhnert</td><td>2022-07-19T00:00:00.000+0000</td><td>5</td></tr><tr><td>C00584</td><td>Amaleta</td><td>Gillett</td><td>2022-07-27T00:00:00.000+0000</td><td>10</td></tr><tr><td>C00805</td><td>Connor</td><td>Kiera</td><td>2022-07-16T00:00:00.000+0000</td><td>5</td></tr><tr><td>C00541</td><td>Deborah</td><td>Francey</td><td>2022-07-29T00:00:00.000+0000</td><td>10</td></tr><tr><td>C00501</td><td>Wilfrid</td><td>Fedoronko</td><td>2022-07-28T00:00:00.000+0000</td><td>10</td></tr><tr><td>C00811</td><td>Gus</td><td>Kittiman</td><td>2022-07-18T00:00:00.000+0000</td><td>5</td></tr><tr><td>C00977</td><td>Lindy</td><td>Mandifield</td><td>2022-07-20T00:00:00.000+0000</td><td>5</td></tr><tr><td>C01122</td><td>Fiorenze</td><td>Nare</td><td>2022-07-26T00:00:00.000+0000</td><td>5</td></tr><tr><td>C00896</td><td>Fancie</td><td>Leidl</td><td>2022-07-23T00:00:00.000+0000</td><td>5</td></tr><tr><td>C01046</td><td>Arlie</td><td>McNysche</td><td>2022-07-26T00:00:00.000+0000</td><td>5</td></tr></tbody></table></div>"
      ]
     },
     "metadata": {
      "application/vnd.databricks.v1+output": {
       "addedWidgets": {},
       "aggData": [],
       "aggError": "",
       "aggOverflow": false,
       "aggSchema": [],
       "aggSeriesLimitReached": false,
       "aggType": "",
       "arguments": {},
       "columnCustomDisplayInfos": {},
       "data": [
        [
         "C00873",
         "Pauly",
         "Lattka",
         "2022-07-26T00:00:00.000+0000",
         5
        ],
        [
         "C00804",
         "Kenneth",
         "Kiehl",
         "2022-07-29T00:00:00.000+0000",
         5
        ],
        [
         "C00803",
         "Zollie",
         "Kiddy",
         "2022-07-14T00:00:00.000+0000",
         5
        ],
        [
         "C01150",
         "Natale",
         "O'Luby",
         "2022-07-26T00:00:00.000+0000",
         5
        ],
        [
         "C00779",
         "Samson",
         "Josephy",
         "2022-07-27T00:00:00.000+0000",
         10
        ],
        [
         "C01120",
         "Carrissa",
         "Nairn",
         "2022-07-30T00:00:00.000+0000",
         5
        ],
        [
         "C01011",
         "Nickey",
         "McBeith",
         "2022-07-16T00:00:00.000+0000",
         5
        ],
        [
         "C01121",
         "Deanne",
         "Nani",
         "2022-07-13T00:00:00.000+0000",
         5
        ],
        [
         "C00807",
         "Irwinn",
         "Kike",
         "2022-07-23T00:00:00.000+0000",
         5
        ],
        [
         "C00755",
         "Melessa",
         "Jans",
         "2022-07-29T00:00:00.000+0000",
         10
        ],
        [
         "C00841",
         "Sterling",
         "Kuhnert",
         "2022-07-19T00:00:00.000+0000",
         5
        ],
        [
         "C00584",
         "Amaleta",
         "Gillett",
         "2022-07-27T00:00:00.000+0000",
         10
        ],
        [
         "C00805",
         "Connor",
         "Kiera",
         "2022-07-16T00:00:00.000+0000",
         5
        ],
        [
         "C00541",
         "Deborah",
         "Francey",
         "2022-07-29T00:00:00.000+0000",
         10
        ],
        [
         "C00501",
         "Wilfrid",
         "Fedoronko",
         "2022-07-28T00:00:00.000+0000",
         10
        ],
        [
         "C00811",
         "Gus",
         "Kittiman",
         "2022-07-18T00:00:00.000+0000",
         5
        ],
        [
         "C00977",
         "Lindy",
         "Mandifield",
         "2022-07-20T00:00:00.000+0000",
         5
        ],
        [
         "C01122",
         "Fiorenze",
         "Nare",
         "2022-07-26T00:00:00.000+0000",
         5
        ],
        [
         "C00896",
         "Fancie",
         "Leidl",
         "2022-07-23T00:00:00.000+0000",
         5
        ],
        [
         "C01046",
         "Arlie",
         "McNysche",
         "2022-07-26T00:00:00.000+0000",
         5
        ]
       ],
       "datasetInfos": [],
       "dbfsResultPath": null,
       "isJsonSchema": true,
       "metadata": {
        "isDbfsCommandResult": false
       },
       "overflow": false,
       "plotOptions": {
        "customPlotOptions": {},
        "displayType": "table",
        "pivotAggregation": null,
        "pivotColumns": null,
        "xColumns": null,
        "yColumns": null
       },
       "removedWidgets": [],
       "schema": [
        {
         "metadata": "{}",
         "name": "customer_id",
         "type": "\"string\""
        },
        {
         "metadata": "{}",
         "name": "f_name",
         "type": "\"string\""
        },
        {
         "metadata": "{}",
         "name": "l_name",
         "type": "\"string\""
        },
        {
         "metadata": "{}",
         "name": "order_date",
         "type": "\"timestamp\""
        },
        {
         "metadata": "{}",
         "name": "books_counts",
         "type": "\"long\""
        }
       ],
       "type": "table"
      }
     },
     "output_type": "display_data"
    }
   ],
   "source": [
    "%sql\n",
    "SELECT * FROM daily_customer_books LIMIT 20;"
   ]
  },
  {
   "cell_type": "code",
   "execution_count": 0,
   "metadata": {
    "application/vnd.databricks.v1+cell": {
     "cellMetadata": {
      "byteLimit": 2048000,
      "rowLimit": 10000
     },
     "inputWidgets": {},
     "nuid": "2729d96f-a818-428a-90c6-18300ae5a027",
     "showTitle": false,
     "title": ""
    }
   },
   "outputs": [
    {
     "output_type": "stream",
     "name": "stdout",
     "output_type": "stream",
     "text": [
      "Stopping Stream: 319c733a-312e-40a6-97a0-68447fd68526\nStopping Stream: 477d6c7c-fd88-4110-b32f-24581f0e76ae\nStopping Stream: 3b40ce9c-6d96-45cc-ade1-732c8dfcb97f\n"
     ]
    }
   ],
   "source": [
    "# Let us stop all the active streams\n",
    "for s in spark.streams.active:\n",
    "    print(\"Stopping Stream: \"+ s.id)\n",
    "    s.stop()\n",
    "    s.awaitTermination()"
   ]
  },
  {
   "cell_type": "code",
   "execution_count": 0,
   "metadata": {
    "application/vnd.databricks.v1+cell": {
     "cellMetadata": {},
     "inputWidgets": {},
     "nuid": "e5054292-6218-4b24-8219-bde7939edfad",
     "showTitle": false,
     "title": ""
    }
   },
   "outputs": [],
   "source": []
  }
 ],
 "metadata": {
  "application/vnd.databricks.v1+notebook": {
   "dashboards": [],
   "environmentMetadata": null,
   "language": "python",
   "notebookMetadata": {
    "mostRecentlyExecutedCommandWithImplicitDF": {
     "commandId": -1,
     "dataframes": [
      "_sqldf"
     ]
    },
    "pythonIndentUnit": 4
   },
   "notebookName": "Multi-Hop-Architecture",
   "widgets": {}
  }
 },
 "nbformat": 4,
 "nbformat_minor": 0
}

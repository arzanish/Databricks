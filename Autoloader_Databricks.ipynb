{
 "cells": [
  {
   "cell_type": "markdown",
   "metadata": {
    "application/vnd.databricks.v1+cell": {
     "cellMetadata": {},
     "inputWidgets": {},
     "nuid": "2e46c8c7-6340-4a36-8d59-7a660a20db8e",
     "showTitle": false,
     "title": ""
    }
   },
   "source": [
    "## AUTOLOADER\n",
    "\n",
    "#### In this NOTEBOOK, we demonstrate the power of DATABRICKS AUTOLOADER , to incrementaly ingest data using STREAMING QUERIES."
   ]
  },
  {
   "cell_type": "code",
   "execution_count": 0,
   "metadata": {
    "application/vnd.databricks.v1+cell": {
     "cellMetadata": {
      "byteLimit": 2048000,
      "rowLimit": 10000
     },
     "inputWidgets": {},
     "nuid": "58c1d189-8de1-4d8a-bb67-ea8489886567",
     "showTitle": false,
     "title": ""
    }
   },
   "outputs": [
    {
     "output_type": "display_data",
     "data": {
      "text/html": [
       "<style scoped>\n",
       "  .table-result-container {\n",
       "    max-height: 300px;\n",
       "    overflow: auto;\n",
       "  }\n",
       "  table, th, td {\n",
       "    border: 1px solid black;\n",
       "    border-collapse: collapse;\n",
       "  }\n",
       "  th, td {\n",
       "    padding: 5px;\n",
       "  }\n",
       "  th {\n",
       "    text-align: left;\n",
       "  }\n",
       "</style><div class='table-result-container'><table class='table-result'><thead style='background-color: white'><tr><th>path</th><th>name</th><th>size</th><th>modificationTime</th></tr></thead><tbody><tr><td>dbfs:/mnt/demo-datasets/bookstore/orders-raw/01.parquet</td><td>01.parquet</td><td>18823</td><td>1716830624000</td></tr></tbody></table></div>"
      ]
     },
     "metadata": {
      "application/vnd.databricks.v1+output": {
       "addedWidgets": {},
       "aggData": [],
       "aggError": "",
       "aggOverflow": false,
       "aggSchema": [],
       "aggSeriesLimitReached": false,
       "aggType": "",
       "arguments": {},
       "columnCustomDisplayInfos": {},
       "data": [
        [
         "dbfs:/mnt/demo-datasets/bookstore/orders-raw/01.parquet",
         "01.parquet",
         18823,
         1716830624000
        ]
       ],
       "datasetInfos": [],
       "dbfsResultPath": null,
       "isJsonSchema": true,
       "metadata": {},
       "overflow": false,
       "plotOptions": {
        "customPlotOptions": {},
        "displayType": "table",
        "pivotAggregation": null,
        "pivotColumns": null,
        "xColumns": null,
        "yColumns": null
       },
       "removedWidgets": [],
       "schema": [
        {
         "metadata": "{}",
         "name": "path",
         "type": "\"string\""
        },
        {
         "metadata": "{}",
         "name": "name",
         "type": "\"string\""
        },
        {
         "metadata": "{}",
         "name": "size",
         "type": "\"long\""
        },
        {
         "metadata": "{}",
         "name": "modificationTime",
         "type": "\"long\""
        }
       ],
       "type": "table"
      }
     },
     "output_type": "display_data"
    }
   ],
   "source": [
    "%python\n",
    "# We are going to list down the parquet files that we have in the orders-raw directory. We will be using this directory for creating a streaming query.\n",
    "files = dbutils.fs.ls(f\"{dataset_bookstore}/orders-raw\")\n",
    "display(files)"
   ]
  },
  {
   "cell_type": "markdown",
   "metadata": {
    "application/vnd.databricks.v1+cell": {
     "cellMetadata": {},
     "inputWidgets": {},
     "nuid": "c0447799-a9fd-401e-b016-3b12026615b5",
     "showTitle": false,
     "title": ""
    }
   },
   "source": [
    "* To use **AUTOLOADER** we need to use *cloudFiles* format"
   ]
  },
  {
   "cell_type": "code",
   "execution_count": 0,
   "metadata": {
    "application/vnd.databricks.v1+cell": {
     "cellMetadata": {
      "byteLimit": 2048000,
      "rowLimit": 10000
     },
     "inputWidgets": {},
     "nuid": "0328eb25-0ee9-44dc-88bb-a59251243826",
     "showTitle": false,
     "title": ""
    }
   },
   "outputs": [
    {
     "output_type": "stream",
     "name": "stdout",
     "output_type": "stream",
     "text": [
      "Out[9]: <pyspark.sql.streaming.query.StreamingQuery at 0x7fc9745ecc70>"
     ]
    }
   ],
   "source": [
    "#  We use AUTOLOADER (It is a streaming query which uses SPARK STRUCTURED STREAMING to load data incrementally) to read files from a directory and detect new files as they arrive and read them incrementally.\n",
    "\n",
    "(spark.readStream\n",
    "      .format(\"cloudFiles\")\n",
    "      .option(\"cloudFiles.format\",\"parquet\")\n",
    "      .option(\"cloudFiles.schemaLocation\",\"dbfs:/mnt/demo/orders_checkpoint\")\n",
    "      .load(f\"{dataset_bookstore}/orders-raw\")   \n",
    "    .writeStream\n",
    "      .option(\"checkpointLocation\",\"dbfs:/mnt/demo/orders_checkpoint\")   \n",
    "      .table(\"orders_updates\")  \n",
    ")\n",
    "\n",
    "# The 1st SPIKE in the below graphs represent the loading of data due to the above command.\n",
    "# The 2nd SPIKE in the below graphs happen as we again try to load new records on to \"orders_updates\" STREAMING TABLE. Check code block 7 and 8 for the command that is used to load the data ."
   ]
  },
  {
   "cell_type": "code",
   "execution_count": 0,
   "metadata": {
    "application/vnd.databricks.v1+cell": {
     "cellMetadata": {
      "byteLimit": 2048000,
      "implicitDf": true,
      "rowLimit": 10000
     },
     "inputWidgets": {},
     "nuid": "2db66bc7-103a-4a9e-8c8f-99bb49070c9a",
     "showTitle": false,
     "title": ""
    }
   },
   "outputs": [
    {
     "output_type": "display_data",
     "data": {
      "text/html": [
       "<style scoped>\n",
       "  .table-result-container {\n",
       "    max-height: 300px;\n",
       "    overflow: auto;\n",
       "  }\n",
       "  table, th, td {\n",
       "    border: 1px solid black;\n",
       "    border-collapse: collapse;\n",
       "  }\n",
       "  th, td {\n",
       "    padding: 5px;\n",
       "  }\n",
       "  th {\n",
       "    text-align: left;\n",
       "  }\n",
       "</style><div class='table-result-container'><table class='table-result'><thead style='background-color: white'><tr><th>order_id</th><th>order_timestamp</th><th>customer_id</th><th>quantity</th><th>total</th><th>books</th><th>_rescued_data</th></tr></thead><tbody><tr><td>000000000006341</td><td>1657520256</td><td>C00788</td><td>1</td><td>41</td><td>List(List(B08, 1, 41))</td><td>null</td></tr><tr><td>000000000006342</td><td>1657520256</td><td>C00788</td><td>1</td><td>41</td><td>List(List(B08, 1, 41))</td><td>null</td></tr><tr><td>000000000006343</td><td>1657531717</td><td>C00654</td><td>1</td><td>28</td><td>List(List(B02, 1, 28))</td><td>null</td></tr><tr><td>000000000006344</td><td>1657531717</td><td>C00654</td><td>1</td><td>28</td><td>List(List(B02, 1, 28))</td><td>null</td></tr><tr><td>000000000006345</td><td>1657543676</td><td>C00762</td><td>1</td><td>49</td><td>List(List(B01, 1, 49))</td><td>null</td></tr><tr><td>000000000006346</td><td>1657543676</td><td>C00762</td><td>1</td><td>49</td><td>List(List(B01, 1, 49))</td><td>null</td></tr><tr><td>000000000006347</td><td>1657546079</td><td>C01014</td><td>1</td><td>28</td><td>List(List(B02, 1, 28))</td><td>null</td></tr><tr><td>000000000006348</td><td>1657546658</td><td>C00633</td><td>1</td><td>24</td><td>List(List(B09, 1, 24))</td><td>null</td></tr><tr><td>000000000006349</td><td>1657546658</td><td>C00633</td><td>1</td><td>24</td><td>List(List(B09, 1, 24))</td><td>null</td></tr><tr><td>000000000006350</td><td>1657547177</td><td>C00638</td><td>1</td><td>35</td><td>List(List(B03, 1, 35))</td><td>null</td></tr><tr><td>000000000006351</td><td>1657547177</td><td>C00638</td><td>1</td><td>35</td><td>List(List(B03, 1, 35))</td><td>null</td></tr><tr><td>000000000006352</td><td>1657547578</td><td>C00875</td><td>1</td><td>24</td><td>List(List(B09, 1, 24))</td><td>null</td></tr><tr><td>000000000006353</td><td>1657554241</td><td>C01130</td><td>1</td><td>41</td><td>List(List(B08, 1, 41))</td><td>null</td></tr><tr><td>000000000006354</td><td>1657554482</td><td>C00753</td><td>1</td><td>33</td><td>List(List(B07, 1, 33))</td><td>null</td></tr><tr><td>000000000006355</td><td>1657554482</td><td>C00753</td><td>1</td><td>33</td><td>List(List(B07, 1, 33))</td><td>null</td></tr><tr><td>000000000006356</td><td>1657555151</td><td>C01177</td><td>1</td><td>20</td><td>List(List(B04, 1, 20))</td><td>null</td></tr><tr><td>000000000006357</td><td>1657555693</td><td>C00639</td><td>1</td><td>33</td><td>List(List(B07, 1, 33))</td><td>null</td></tr><tr><td>000000000006358</td><td>1657555693</td><td>C00639</td><td>1</td><td>33</td><td>List(List(B07, 1, 33))</td><td>null</td></tr><tr><td>000000000006359</td><td>1657557010</td><td>C00942</td><td>1</td><td>24</td><td>List(List(B09, 1, 24))</td><td>null</td></tr><tr><td>000000000006360</td><td>1657562811</td><td>C00760</td><td>1</td><td>47</td><td>List(List(B05, 1, 47))</td><td>null</td></tr></tbody></table></div>"
      ]
     },
     "metadata": {
      "application/vnd.databricks.v1+output": {
       "addedWidgets": {},
       "aggData": [],
       "aggError": "",
       "aggOverflow": false,
       "aggSchema": [],
       "aggSeriesLimitReached": false,
       "aggType": "",
       "arguments": {},
       "columnCustomDisplayInfos": {},
       "data": [
        [
         "000000000006341",
         1657520256,
         "C00788",
         1,
         41,
         [
          [
           "B08",
           1,
           41
          ]
         ],
         null
        ],
        [
         "000000000006342",
         1657520256,
         "C00788",
         1,
         41,
         [
          [
           "B08",
           1,
           41
          ]
         ],
         null
        ],
        [
         "000000000006343",
         1657531717,
         "C00654",
         1,
         28,
         [
          [
           "B02",
           1,
           28
          ]
         ],
         null
        ],
        [
         "000000000006344",
         1657531717,
         "C00654",
         1,
         28,
         [
          [
           "B02",
           1,
           28
          ]
         ],
         null
        ],
        [
         "000000000006345",
         1657543676,
         "C00762",
         1,
         49,
         [
          [
           "B01",
           1,
           49
          ]
         ],
         null
        ],
        [
         "000000000006346",
         1657543676,
         "C00762",
         1,
         49,
         [
          [
           "B01",
           1,
           49
          ]
         ],
         null
        ],
        [
         "000000000006347",
         1657546079,
         "C01014",
         1,
         28,
         [
          [
           "B02",
           1,
           28
          ]
         ],
         null
        ],
        [
         "000000000006348",
         1657546658,
         "C00633",
         1,
         24,
         [
          [
           "B09",
           1,
           24
          ]
         ],
         null
        ],
        [
         "000000000006349",
         1657546658,
         "C00633",
         1,
         24,
         [
          [
           "B09",
           1,
           24
          ]
         ],
         null
        ],
        [
         "000000000006350",
         1657547177,
         "C00638",
         1,
         35,
         [
          [
           "B03",
           1,
           35
          ]
         ],
         null
        ],
        [
         "000000000006351",
         1657547177,
         "C00638",
         1,
         35,
         [
          [
           "B03",
           1,
           35
          ]
         ],
         null
        ],
        [
         "000000000006352",
         1657547578,
         "C00875",
         1,
         24,
         [
          [
           "B09",
           1,
           24
          ]
         ],
         null
        ],
        [
         "000000000006353",
         1657554241,
         "C01130",
         1,
         41,
         [
          [
           "B08",
           1,
           41
          ]
         ],
         null
        ],
        [
         "000000000006354",
         1657554482,
         "C00753",
         1,
         33,
         [
          [
           "B07",
           1,
           33
          ]
         ],
         null
        ],
        [
         "000000000006355",
         1657554482,
         "C00753",
         1,
         33,
         [
          [
           "B07",
           1,
           33
          ]
         ],
         null
        ],
        [
         "000000000006356",
         1657555151,
         "C01177",
         1,
         20,
         [
          [
           "B04",
           1,
           20
          ]
         ],
         null
        ],
        [
         "000000000006357",
         1657555693,
         "C00639",
         1,
         33,
         [
          [
           "B07",
           1,
           33
          ]
         ],
         null
        ],
        [
         "000000000006358",
         1657555693,
         "C00639",
         1,
         33,
         [
          [
           "B07",
           1,
           33
          ]
         ],
         null
        ],
        [
         "000000000006359",
         1657557010,
         "C00942",
         1,
         24,
         [
          [
           "B09",
           1,
           24
          ]
         ],
         null
        ],
        [
         "000000000006360",
         1657562811,
         "C00760",
         1,
         47,
         [
          [
           "B05",
           1,
           47
          ]
         ],
         null
        ]
       ],
       "datasetInfos": [],
       "dbfsResultPath": null,
       "isJsonSchema": true,
       "metadata": {},
       "overflow": false,
       "plotOptions": {
        "customPlotOptions": {},
        "displayType": "table",
        "pivotAggregation": null,
        "pivotColumns": null,
        "xColumns": null,
        "yColumns": null
       },
       "removedWidgets": [],
       "schema": [
        {
         "metadata": "{}",
         "name": "order_id",
         "type": "\"string\""
        },
        {
         "metadata": "{}",
         "name": "order_timestamp",
         "type": "\"long\""
        },
        {
         "metadata": "{}",
         "name": "customer_id",
         "type": "\"string\""
        },
        {
         "metadata": "{}",
         "name": "quantity",
         "type": "\"long\""
        },
        {
         "metadata": "{}",
         "name": "total",
         "type": "\"integer\""
        },
        {
         "metadata": "{}",
         "name": "books",
         "type": "{\"type\":\"array\",\"elementType\":{\"type\":\"struct\",\"fields\":[{\"name\":\"book_id\",\"type\":\"string\",\"nullable\":true,\"metadata\":{}},{\"name\":\"quantity\",\"type\":\"integer\",\"nullable\":true,\"metadata\":{}},{\"name\":\"subtotal\",\"type\":\"long\",\"nullable\":true,\"metadata\":{}}]},\"containsNull\":true}"
        },
        {
         "metadata": "{}",
         "name": "_rescued_data",
         "type": "\"string\""
        }
       ],
       "type": "table"
      }
     },
     "output_type": "display_data"
    }
   ],
   "source": [
    "%sql\n",
    "SELECT * FROM orders_updates LIMIT 20;"
   ]
  },
  {
   "cell_type": "code",
   "execution_count": 0,
   "metadata": {
    "application/vnd.databricks.v1+cell": {
     "cellMetadata": {
      "byteLimit": 2048000,
      "implicitDf": true,
      "rowLimit": 10000
     },
     "inputWidgets": {},
     "nuid": "3edd3890-b97a-4db4-a629-ebd860c812a1",
     "showTitle": false,
     "title": ""
    }
   },
   "outputs": [
    {
     "output_type": "display_data",
     "data": {
      "text/html": [
       "<style scoped>\n",
       "  .table-result-container {\n",
       "    max-height: 300px;\n",
       "    overflow: auto;\n",
       "  }\n",
       "  table, th, td {\n",
       "    border: 1px solid black;\n",
       "    border-collapse: collapse;\n",
       "  }\n",
       "  th, td {\n",
       "    padding: 5px;\n",
       "  }\n",
       "  th {\n",
       "    text-align: left;\n",
       "  }\n",
       "</style><div class='table-result-container'><table class='table-result'><thead style='background-color: white'><tr><th>count(1)</th></tr></thead><tbody><tr><td>1000</td></tr></tbody></table></div>"
      ]
     },
     "metadata": {
      "application/vnd.databricks.v1+output": {
       "addedWidgets": {},
       "aggData": [],
       "aggError": "",
       "aggOverflow": false,
       "aggSchema": [],
       "aggSeriesLimitReached": false,
       "aggType": "",
       "arguments": {},
       "columnCustomDisplayInfos": {},
       "data": [
        [
         1000
        ]
       ],
       "datasetInfos": [],
       "dbfsResultPath": null,
       "isJsonSchema": true,
       "metadata": {},
       "overflow": false,
       "plotOptions": {
        "customPlotOptions": {},
        "displayType": "table",
        "pivotAggregation": null,
        "pivotColumns": null,
        "xColumns": null,
        "yColumns": null
       },
       "removedWidgets": [],
       "schema": [
        {
         "metadata": "{\"__autoGeneratedAlias\":\"true\"}",
         "name": "count(1)",
         "type": "\"long\""
        }
       ],
       "type": "table"
      }
     },
     "output_type": "display_data"
    }
   ],
   "source": [
    "%sql\n",
    "SELECT count(*) FROM orders_updates;\n",
    "-- We count the records. There are 1000 of them."
   ]
  },
  {
   "cell_type": "code",
   "execution_count": 0,
   "metadata": {
    "application/vnd.databricks.v1+cell": {
     "cellMetadata": {
      "byteLimit": 2048000,
      "rowLimit": 10000
     },
     "inputWidgets": {},
     "nuid": "e2467091-4e0c-4a93-bb83-70ae2c07fe63",
     "showTitle": false,
     "title": ""
    }
   },
   "outputs": [
    {
     "output_type": "stream",
     "name": "stdout",
     "output_type": "stream",
     "text": [
      "Loading 02.parquet file to the bookstore dataset\n"
     ]
    }
   ],
   "source": [
    "# Now we are going to load new data files from our source directory.\n",
    "load_new_data()"
   ]
  },
  {
   "cell_type": "code",
   "execution_count": 0,
   "metadata": {
    "application/vnd.databricks.v1+cell": {
     "cellMetadata": {
      "byteLimit": 2048000,
      "rowLimit": 10000
     },
     "inputWidgets": {},
     "nuid": "e1108931-982c-4a89-9971-93f61d97ad0c",
     "showTitle": false,
     "title": ""
    }
   },
   "outputs": [
    {
     "output_type": "stream",
     "name": "stdout",
     "output_type": "stream",
     "text": [
      "Loading 03.parquet file to the bookstore dataset\n"
     ]
    }
   ],
   "source": [
    "load_new_data()"
   ]
  },
  {
   "cell_type": "code",
   "execution_count": 0,
   "metadata": {
    "application/vnd.databricks.v1+cell": {
     "cellMetadata": {
      "byteLimit": 2048000,
      "rowLimit": 10000
     },
     "inputWidgets": {},
     "nuid": "6236d900-1a29-43f4-aaf9-4966a2df60bb",
     "showTitle": false,
     "title": ""
    }
   },
   "outputs": [
    {
     "output_type": "display_data",
     "data": {
      "text/html": [
       "<style scoped>\n",
       "  .table-result-container {\n",
       "    max-height: 300px;\n",
       "    overflow: auto;\n",
       "  }\n",
       "  table, th, td {\n",
       "    border: 1px solid black;\n",
       "    border-collapse: collapse;\n",
       "  }\n",
       "  th, td {\n",
       "    padding: 5px;\n",
       "  }\n",
       "  th {\n",
       "    text-align: left;\n",
       "  }\n",
       "</style><div class='table-result-container'><table class='table-result'><thead style='background-color: white'><tr><th>path</th><th>name</th><th>size</th><th>modificationTime</th></tr></thead><tbody><tr><td>dbfs:/mnt/demo-datasets/bookstore/orders-raw/01.parquet</td><td>01.parquet</td><td>18823</td><td>1716830624000</td></tr><tr><td>dbfs:/mnt/demo-datasets/bookstore/orders-raw/02.parquet</td><td>02.parquet</td><td>18814</td><td>1716830711000</td></tr><tr><td>dbfs:/mnt/demo-datasets/bookstore/orders-raw/03.parquet</td><td>03.parquet</td><td>18822</td><td>1716830717000</td></tr></tbody></table></div>"
      ]
     },
     "metadata": {
      "application/vnd.databricks.v1+output": {
       "addedWidgets": {},
       "aggData": [],
       "aggError": "",
       "aggOverflow": false,
       "aggSchema": [],
       "aggSeriesLimitReached": false,
       "aggType": "",
       "arguments": {},
       "columnCustomDisplayInfos": {},
       "data": [
        [
         "dbfs:/mnt/demo-datasets/bookstore/orders-raw/01.parquet",
         "01.parquet",
         18823,
         1716830624000
        ],
        [
         "dbfs:/mnt/demo-datasets/bookstore/orders-raw/02.parquet",
         "02.parquet",
         18814,
         1716830711000
        ],
        [
         "dbfs:/mnt/demo-datasets/bookstore/orders-raw/03.parquet",
         "03.parquet",
         18822,
         1716830717000
        ]
       ],
       "datasetInfos": [],
       "dbfsResultPath": null,
       "isJsonSchema": true,
       "metadata": {},
       "overflow": false,
       "plotOptions": {
        "customPlotOptions": {},
        "displayType": "table",
        "pivotAggregation": null,
        "pivotColumns": null,
        "xColumns": null,
        "yColumns": null
       },
       "removedWidgets": [],
       "schema": [
        {
         "metadata": "{}",
         "name": "path",
         "type": "\"string\""
        },
        {
         "metadata": "{}",
         "name": "name",
         "type": "\"string\""
        },
        {
         "metadata": "{}",
         "name": "size",
         "type": "\"long\""
        },
        {
         "metadata": "{}",
         "name": "modificationTime",
         "type": "\"long\""
        }
       ],
       "type": "table"
      }
     },
     "output_type": "display_data"
    }
   ],
   "source": [
    "# Let us list the contents of our source directory\n",
    "files = dbutils.fs.ls(f\"{dataset_bookstore}/orders-raw\")\n",
    "display(files)"
   ]
  },
  {
   "cell_type": "code",
   "execution_count": 0,
   "metadata": {
    "application/vnd.databricks.v1+cell": {
     "cellMetadata": {
      "byteLimit": 2048000,
      "implicitDf": true,
      "rowLimit": 10000
     },
     "inputWidgets": {},
     "nuid": "81c94f87-0e9b-49cb-afd7-c0c0d8475f0a",
     "showTitle": false,
     "title": ""
    }
   },
   "outputs": [
    {
     "output_type": "display_data",
     "data": {
      "text/html": [
       "<style scoped>\n",
       "  .table-result-container {\n",
       "    max-height: 300px;\n",
       "    overflow: auto;\n",
       "  }\n",
       "  table, th, td {\n",
       "    border: 1px solid black;\n",
       "    border-collapse: collapse;\n",
       "  }\n",
       "  th, td {\n",
       "    padding: 5px;\n",
       "  }\n",
       "  th {\n",
       "    text-align: left;\n",
       "  }\n",
       "</style><div class='table-result-container'><table class='table-result'><thead style='background-color: white'><tr><th>count(1)</th></tr></thead><tbody><tr><td>3000</td></tr></tbody></table></div>"
      ]
     },
     "metadata": {
      "application/vnd.databricks.v1+output": {
       "addedWidgets": {},
       "aggData": [],
       "aggError": "",
       "aggOverflow": false,
       "aggSchema": [],
       "aggSeriesLimitReached": false,
       "aggType": "",
       "arguments": {},
       "columnCustomDisplayInfos": {},
       "data": [
        [
         3000
        ]
       ],
       "datasetInfos": [],
       "dbfsResultPath": null,
       "isJsonSchema": true,
       "metadata": {},
       "overflow": false,
       "plotOptions": {
        "customPlotOptions": {},
        "displayType": "table",
        "pivotAggregation": null,
        "pivotColumns": null,
        "xColumns": null,
        "yColumns": null
       },
       "removedWidgets": [],
       "schema": [
        {
         "metadata": "{\"__autoGeneratedAlias\":\"true\"}",
         "name": "count(1)",
         "type": "\"long\""
        }
       ],
       "type": "table"
      }
     },
     "output_type": "display_data"
    }
   ],
   "source": [
    "%sql\n",
    "SELECT count(*) FROM orders_updates;\n",
    "-- After placing more data on the \"orders-raw\" directory, we recount the records in the \"orders_updates\" table. We find that the new data is loaded onto the \"orders_updates\" table automatically. This is what we expected to achieve using the feature DATABRICKS AUTOLOADER."
   ]
  },
  {
   "cell_type": "code",
   "execution_count": 0,
   "metadata": {
    "application/vnd.databricks.v1+cell": {
     "cellMetadata": {
      "byteLimit": 2048000,
      "implicitDf": true,
      "rowLimit": 10000
     },
     "inputWidgets": {},
     "nuid": "3764cbb3-8663-48e9-befb-5a6f86e92728",
     "showTitle": false,
     "title": ""
    }
   },
   "outputs": [
    {
     "output_type": "display_data",
     "data": {
      "text/html": [
       "<style scoped>\n",
       "  .table-result-container {\n",
       "    max-height: 300px;\n",
       "    overflow: auto;\n",
       "  }\n",
       "  table, th, td {\n",
       "    border: 1px solid black;\n",
       "    border-collapse: collapse;\n",
       "  }\n",
       "  th, td {\n",
       "    padding: 5px;\n",
       "  }\n",
       "  th {\n",
       "    text-align: left;\n",
       "  }\n",
       "</style><div class='table-result-container'><table class='table-result'><thead style='background-color: white'><tr><th>version</th><th>timestamp</th><th>userId</th><th>userName</th><th>operation</th><th>operationParameters</th><th>job</th><th>notebook</th><th>clusterId</th><th>readVersion</th><th>isolationLevel</th><th>isBlindAppend</th><th>operationMetrics</th><th>userMetadata</th><th>engineInfo</th></tr></thead><tbody><tr><td>3</td><td>2024-05-27T17:25:18.000+0000</td><td>6344707903279464</td><td>arzanishyn@gmail.com</td><td>STREAMING UPDATE</td><td>Map(outputMode -> Append, queryId -> e7e21dbd-0507-4ee4-9baf-2351ce77ef6b, epochId -> 2)</td><td>null</td><td>List(2567944741657932)</td><td>0527-162333-a6922r5e</td><td>2</td><td>WriteSerializable</td><td>true</td><td>Map(numRemovedFiles -> 0, numOutputRows -> 1000, numOutputBytes -> 19059, numAddedFiles -> 1)</td><td>null</td><td>Databricks-Runtime/11.3.x-scala2.12</td></tr><tr><td>2</td><td>2024-05-27T17:25:13.000+0000</td><td>6344707903279464</td><td>arzanishyn@gmail.com</td><td>STREAMING UPDATE</td><td>Map(outputMode -> Append, queryId -> e7e21dbd-0507-4ee4-9baf-2351ce77ef6b, epochId -> 1)</td><td>null</td><td>List(2567944741657932)</td><td>0527-162333-a6922r5e</td><td>1</td><td>WriteSerializable</td><td>true</td><td>Map(numRemovedFiles -> 0, numOutputRows -> 1000, numOutputBytes -> 19051, numAddedFiles -> 1)</td><td>null</td><td>Databricks-Runtime/11.3.x-scala2.12</td></tr><tr><td>1</td><td>2024-05-27T17:24:22.000+0000</td><td>6344707903279464</td><td>arzanishyn@gmail.com</td><td>STREAMING UPDATE</td><td>Map(outputMode -> Append, queryId -> e7e21dbd-0507-4ee4-9baf-2351ce77ef6b, epochId -> 0)</td><td>null</td><td>List(2567944741657932)</td><td>0527-162333-a6922r5e</td><td>0</td><td>WriteSerializable</td><td>true</td><td>Map(numRemovedFiles -> 0, numOutputRows -> 1000, numOutputBytes -> 19060, numAddedFiles -> 1)</td><td>null</td><td>Databricks-Runtime/11.3.x-scala2.12</td></tr><tr><td>0</td><td>2024-05-27T17:24:16.000+0000</td><td>6344707903279464</td><td>arzanishyn@gmail.com</td><td>CREATE TABLE</td><td>Map(isManaged -> true, description -> null, partitionBy -> [], properties -> {})</td><td>null</td><td>List(2567944741657932)</td><td>0527-162333-a6922r5e</td><td>null</td><td>WriteSerializable</td><td>true</td><td>Map()</td><td>null</td><td>Databricks-Runtime/11.3.x-scala2.12</td></tr></tbody></table></div>"
      ]
     },
     "metadata": {
      "application/vnd.databricks.v1+output": {
       "addedWidgets": {},
       "aggData": [],
       "aggError": "",
       "aggOverflow": false,
       "aggSchema": [],
       "aggSeriesLimitReached": false,
       "aggType": "",
       "arguments": {},
       "columnCustomDisplayInfos": {},
       "data": [
        [
         3,
         "2024-05-27T17:25:18.000+0000",
         "6344707903279464",
         "arzanishyn@gmail.com",
         "STREAMING UPDATE",
         {
          "epochId": "2",
          "outputMode": "Append",
          "queryId": "e7e21dbd-0507-4ee4-9baf-2351ce77ef6b"
         },
         null,
         [
          "2567944741657932"
         ],
         "0527-162333-a6922r5e",
         2,
         "WriteSerializable",
         true,
         {
          "numAddedFiles": "1",
          "numOutputBytes": "19059",
          "numOutputRows": "1000",
          "numRemovedFiles": "0"
         },
         null,
         "Databricks-Runtime/11.3.x-scala2.12"
        ],
        [
         2,
         "2024-05-27T17:25:13.000+0000",
         "6344707903279464",
         "arzanishyn@gmail.com",
         "STREAMING UPDATE",
         {
          "epochId": "1",
          "outputMode": "Append",
          "queryId": "e7e21dbd-0507-4ee4-9baf-2351ce77ef6b"
         },
         null,
         [
          "2567944741657932"
         ],
         "0527-162333-a6922r5e",
         1,
         "WriteSerializable",
         true,
         {
          "numAddedFiles": "1",
          "numOutputBytes": "19051",
          "numOutputRows": "1000",
          "numRemovedFiles": "0"
         },
         null,
         "Databricks-Runtime/11.3.x-scala2.12"
        ],
        [
         1,
         "2024-05-27T17:24:22.000+0000",
         "6344707903279464",
         "arzanishyn@gmail.com",
         "STREAMING UPDATE",
         {
          "epochId": "0",
          "outputMode": "Append",
          "queryId": "e7e21dbd-0507-4ee4-9baf-2351ce77ef6b"
         },
         null,
         [
          "2567944741657932"
         ],
         "0527-162333-a6922r5e",
         0,
         "WriteSerializable",
         true,
         {
          "numAddedFiles": "1",
          "numOutputBytes": "19060",
          "numOutputRows": "1000",
          "numRemovedFiles": "0"
         },
         null,
         "Databricks-Runtime/11.3.x-scala2.12"
        ],
        [
         0,
         "2024-05-27T17:24:16.000+0000",
         "6344707903279464",
         "arzanishyn@gmail.com",
         "CREATE TABLE",
         {
          "description": null,
          "isManaged": "true",
          "partitionBy": "[]",
          "properties": "{}"
         },
         null,
         [
          "2567944741657932"
         ],
         "0527-162333-a6922r5e",
         null,
         "WriteSerializable",
         true,
         {},
         null,
         "Databricks-Runtime/11.3.x-scala2.12"
        ]
       ],
       "datasetInfos": [],
       "dbfsResultPath": null,
       "isJsonSchema": true,
       "metadata": {},
       "overflow": false,
       "plotOptions": {
        "customPlotOptions": {},
        "displayType": "table",
        "pivotAggregation": null,
        "pivotColumns": null,
        "xColumns": null,
        "yColumns": null
       },
       "removedWidgets": [],
       "schema": [
        {
         "metadata": "{}",
         "name": "version",
         "type": "\"long\""
        },
        {
         "metadata": "{}",
         "name": "timestamp",
         "type": "\"timestamp\""
        },
        {
         "metadata": "{}",
         "name": "userId",
         "type": "\"string\""
        },
        {
         "metadata": "{}",
         "name": "userName",
         "type": "\"string\""
        },
        {
         "metadata": "{}",
         "name": "operation",
         "type": "\"string\""
        },
        {
         "metadata": "{}",
         "name": "operationParameters",
         "type": "{\"type\":\"map\",\"keyType\":\"string\",\"valueType\":\"string\",\"valueContainsNull\":true}"
        },
        {
         "metadata": "{}",
         "name": "job",
         "type": "{\"type\":\"struct\",\"fields\":[{\"name\":\"jobId\",\"type\":\"string\",\"nullable\":true,\"metadata\":{}},{\"name\":\"jobName\",\"type\":\"string\",\"nullable\":true,\"metadata\":{}},{\"name\":\"runId\",\"type\":\"string\",\"nullable\":true,\"metadata\":{}},{\"name\":\"jobOwnerId\",\"type\":\"string\",\"nullable\":true,\"metadata\":{}},{\"name\":\"triggerType\",\"type\":\"string\",\"nullable\":true,\"metadata\":{}}]}"
        },
        {
         "metadata": "{}",
         "name": "notebook",
         "type": "{\"type\":\"struct\",\"fields\":[{\"name\":\"notebookId\",\"type\":\"string\",\"nullable\":true,\"metadata\":{}}]}"
        },
        {
         "metadata": "{}",
         "name": "clusterId",
         "type": "\"string\""
        },
        {
         "metadata": "{}",
         "name": "readVersion",
         "type": "\"long\""
        },
        {
         "metadata": "{}",
         "name": "isolationLevel",
         "type": "\"string\""
        },
        {
         "metadata": "{}",
         "name": "isBlindAppend",
         "type": "\"boolean\""
        },
        {
         "metadata": "{}",
         "name": "operationMetrics",
         "type": "{\"type\":\"map\",\"keyType\":\"string\",\"valueType\":\"string\",\"valueContainsNull\":true}"
        },
        {
         "metadata": "{}",
         "name": "userMetadata",
         "type": "\"string\""
        },
        {
         "metadata": "{}",
         "name": "engineInfo",
         "type": "\"string\""
        }
       ],
       "type": "table"
      }
     },
     "output_type": "display_data"
    }
   ],
   "source": [
    "%sql\n",
    "DESCRIBE HISTORY orders_updates"
   ]
  },
  {
   "cell_type": "code",
   "execution_count": 0,
   "metadata": {
    "application/vnd.databricks.v1+cell": {
     "cellMetadata": {
      "byteLimit": 2048000,
      "implicitDf": true,
      "rowLimit": 10000
     },
     "inputWidgets": {},
     "nuid": "f18d881d-3e42-438a-a234-6f02375c1c59",
     "showTitle": false,
     "title": ""
    }
   },
   "outputs": [
    {
     "output_type": "display_data",
     "data": {
      "text/html": [
       "<style scoped>\n",
       "  .table-result-container {\n",
       "    max-height: 300px;\n",
       "    overflow: auto;\n",
       "  }\n",
       "  table, th, td {\n",
       "    border: 1px solid black;\n",
       "    border-collapse: collapse;\n",
       "  }\n",
       "  th, td {\n",
       "    padding: 5px;\n",
       "  }\n",
       "  th {\n",
       "    text-align: left;\n",
       "  }\n",
       "</style><div class='table-result-container'><table class='table-result'><thead style='background-color: white'><tr></tr></thead><tbody></tbody></table></div>"
      ]
     },
     "metadata": {
      "application/vnd.databricks.v1+output": {
       "addedWidgets": {},
       "aggData": [],
       "aggError": "",
       "aggOverflow": false,
       "aggSchema": [],
       "aggSeriesLimitReached": false,
       "aggType": "",
       "arguments": {},
       "columnCustomDisplayInfos": {},
       "data": [],
       "datasetInfos": [],
       "dbfsResultPath": null,
       "isJsonSchema": true,
       "metadata": {},
       "overflow": false,
       "plotOptions": {
        "customPlotOptions": {},
        "displayType": "table",
        "pivotAggregation": null,
        "pivotColumns": null,
        "xColumns": null,
        "yColumns": null
       },
       "removedWidgets": [],
       "schema": [],
       "type": "table"
      }
     },
     "output_type": "display_data"
    }
   ],
   "source": [
    "%sql\n",
    "DROP TABLE orders_updates"
   ]
  },
  {
   "cell_type": "code",
   "execution_count": 0,
   "metadata": {
    "application/vnd.databricks.v1+cell": {
     "cellMetadata": {
      "byteLimit": 2048000,
      "rowLimit": 10000
     },
     "inputWidgets": {},
     "nuid": "c0efbf21-9899-426f-9208-840b9404d256",
     "showTitle": false,
     "title": ""
    }
   },
   "outputs": [
    {
     "output_type": "stream",
     "name": "stdout",
     "output_type": "stream",
     "text": [
      "Out[19]: True"
     ]
    }
   ],
   "source": [
    "dbutils.fs.rm(\"dbfs:/mnt/demo/orders_checkpoint\",True)"
   ]
  }
 ],
 "metadata": {
  "application/vnd.databricks.v1+notebook": {
   "dashboards": [],
   "environmentMetadata": null,
   "language": "python",
   "notebookMetadata": {
    "mostRecentlyExecutedCommandWithImplicitDF": {
     "commandId": 2567944741657944,
     "dataframes": [
      "_sqldf"
     ]
    },
    "pythonIndentUnit": 4
   },
   "notebookName": "Autoloader_Databricks",
   "widgets": {}
  }
 },
 "nbformat": 4,
 "nbformat_minor": 0
}
